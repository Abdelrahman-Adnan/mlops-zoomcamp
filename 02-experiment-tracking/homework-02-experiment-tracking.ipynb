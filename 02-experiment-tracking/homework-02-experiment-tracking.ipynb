{
  "cells": [
    {
      "cell_type": "markdown",
      "id": "5de38694",
      "metadata": {},
      "source": [
        "# MLOps Zoomcamp 2025 - Homework 2\n",
        "\n",
        "This notebook contains the solution for the second homework assignment of the MLOps Zoomcamp course."
      ]
    },
    {
      "cell_type": "code",
      "execution_count": 1,
      "id": "8e1bca0b",
      "metadata": {
        "id": "8e1bca0b"
      },
      "outputs": [],
      "source": [
        "%config AsyncShell.timeout = 300  # Increase to 300 seconds\n",
        "import pandas as pd\n",
        "import pickle\n",
        "import numpy as np\n",
        "import seaborn as sns\n",
        "import matplotlib.pyplot as plt\n",
        "from sklearn.feature_extraction import DictVectorizer\n",
        "from sklearn.linear_model import LinearRegression\n",
        "from sklearn.linear_model import Lasso\n",
        "from sklearn.linear_model import Ridge\n",
        "from sklearn.metrics import mean_squared_error\n",
        "import pandas as pd\n",
        "import sklearn\n",
        "import pyarrow\n",
        "import mlflow"
      ]
    },
    {
      "cell_type": "markdown",
      "id": "a4d57245",
      "metadata": {},
      "source": [
        "* run the following command to start the MLflow UI server:\n"
      ]
    },
    {
      "cell_type": "markdown",
      "id": "0e99d139",
      "metadata": {},
      "source": [
        "```bash\n",
        "mlflow ui --backend-store-uri sqlite:///mlflow.db --host 0.0.0.0 --port 5000\n",
        "```\n",
        "Works will at github code spaces"
      ]
    },
    {
      "cell_type": "code",
      "execution_count": 3,
      "id": "f377c3fe",
      "metadata": {},
      "outputs": [],
      "source": [
        "# Directory paths \n",
        "SCRIPT_PATH = \"scripts\"\n",
        "RAW_DATA_PATH = \"data\"\n",
        "VECTORIZED_DATA_PATH = \"dataset_as_DictVectorizer\""
      ]
    },
    {
      "cell_type": "code",
      "execution_count": 2,
      "id": "73020dba",
      "metadata": {},
      "outputs": [
        {
          "name": "stderr",
          "output_type": "stream",
          "text": [
            "2025/05/26 19:36:05 INFO mlflow.tracking.fluent: Experiment with name 'nyc-taxi-experiment' does not exist. Creating a new experiment.\n"
          ]
        },
        {
          "data": {
            "text/plain": [
              "<Experiment: artifact_location='/workspaces/mlops-zoomcamp/02-experiment-tracking/mlruns/4', creation_time=1748288165031, experiment_id='4', last_update_time=1748288165031, lifecycle_stage='active', name='nyc-taxi-experiment', tags={}>"
            ]
          },
          "execution_count": 2,
          "metadata": {},
          "output_type": "execute_result"
        }
      ],
      "source": [
        "import mlflow\n",
        "import sqlite3\n",
        "\n",
        "# Here we set the tracking URI to a local SQLite database named \"mlflow.db\".\n",
        "mlflow.set_tracking_uri(\"sqlite:///mlflow.db\")\n",
        "\n",
        "# Next we set the experiment name to \"nyc-taxi-experiment\".\n",
        "# First, let's delete the experiment permanently from the database\n",
        "\n",
        "# Connect to the SQLite database\n",
        "conn = sqlite3.connect(\"mlflow.db\")\n",
        "cursor = conn.cursor()\n",
        "\n",
        "# Delete the experiment from the experiments table\n",
        "cursor.execute(\"DELETE FROM experiments WHERE name = ?\", (\"nyc-taxi-experiment\",))\n",
        "\n",
        "# Commit the changes and close the connection\n",
        "conn.commit()\n",
        "conn.close()\n",
        "\n",
        "# Now we can create a new experiment with the same name\n",
        "mlflow.set_experiment(\"nyc-taxi-experiment\")"
      ]
    },
    {
      "cell_type": "markdown",
      "id": "e8e45102",
      "metadata": {},
      "source": [
        "## Q1. What is the version of MlFlow that we currently use?"
      ]
    },
    {
      "cell_type": "code",
      "execution_count": 5,
      "id": "fe4d2d33",
      "metadata": {},
      "outputs": [
        {
          "name": "stdout",
          "output_type": "stream",
          "text": [
            "mlflow, version 2.22.0\n"
          ]
        }
      ],
      "source": [
        "!mlflow --version"
      ]
    },
    {
      "cell_type": "markdown",
      "id": "e2454ed8",
      "metadata": {},
      "source": [
        "## Q2. Download and preprocess the data"
      ]
    },
    {
      "cell_type": "code",
      "execution_count": 16,
      "id": "af5af795",
      "metadata": {},
      "outputs": [
        {
          "name": "stdout",
          "output_type": "stream",
          "text": [
            "--2025-05-25 16:02:05--  https://d37ci6vzurychx.cloudfront.net/trip-data/green_tripdata_2023-01.parquet\n",
            "Resolving d37ci6vzurychx.cloudfront.net (d37ci6vzurychx.cloudfront.net)... 18.239.38.163, 18.239.38.181, 18.239.38.83, ...\n",
            "Connecting to d37ci6vzurychx.cloudfront.net (d37ci6vzurychx.cloudfront.net)|18.239.38.163|:443... connected.\n",
            "HTTP request sent, awaiting response... 200 OK\n",
            "Length: 1427002 (1.4M) [binary/octet-stream]\n",
            "Saving to: ‘green_tripdata_2023-01.parquet’\n",
            "\n",
            "green_tripdata_2023 100%[===================>]   1.36M  --.-KB/s    in 0.01s   \n",
            "\n",
            "2025-05-25 16:02:05 (137 MB/s) - ‘green_tripdata_2023-01.parquet’ saved [1427002/1427002]\n",
            "\n",
            "--2025-05-25 16:02:05--  https://d37ci6vzurychx.cloudfront.net/trip-data/green_tripdata_2023-02.parquet\n",
            "Resolving d37ci6vzurychx.cloudfront.net (d37ci6vzurychx.cloudfront.net)... 18.239.38.181, 18.239.38.83, 18.239.38.147, ...\n",
            "Connecting to d37ci6vzurychx.cloudfront.net (d37ci6vzurychx.cloudfront.net)|18.239.38.181|:443... connected.\n",
            "HTTP request sent, awaiting response... 200 OK\n",
            "Length: 1533740 (1.5M) [binary/octet-stream]\n",
            "Saving to: ‘green_tripdata_2023-02.parquet’\n",
            "\n",
            "green_tripdata_2023 100%[===================>]   1.46M  --.-KB/s    in 0.007s  \n",
            "\n",
            "2025-05-25 16:02:05 (204 MB/s) - ‘green_tripdata_2023-02.parquet’ saved [1533740/1533740]\n",
            "\n",
            "--2025-05-25 16:02:06--  https://d37ci6vzurychx.cloudfront.net/trip-data/green_tripdata_2023-03.parquet\n",
            "Resolving d37ci6vzurychx.cloudfront.net (d37ci6vzurychx.cloudfront.net)... 18.239.38.163, 18.239.38.83, 18.239.38.147, ...\n",
            "Connecting to d37ci6vzurychx.cloudfront.net (d37ci6vzurychx.cloudfront.net)|18.239.38.163|:443... connected.\n",
            "HTTP request sent, awaiting response... 200 OK\n",
            "Length: 1730999 (1.7M) [binary/octet-stream]\n",
            "Saving to: ‘green_tripdata_2023-03.parquet’\n",
            "\n",
            "green_tripdata_2023 100%[===================>]   1.65M  --.-KB/s    in 0.01s   \n",
            "\n",
            "2025-05-25 16:02:06 (153 MB/s) - ‘green_tripdata_2023-03.parquet’ saved [1730999/1730999]\n",
            "\n"
          ]
        }
      ],
      "source": [
        "# Download the data for Green Taxi Trips from 2023 january to March\n",
        "!wget https://d37ci6vzurychx.cloudfront.net/trip-data/green_tripdata_2023-01.parquet\n",
        "!wget https://d37ci6vzurychx.cloudfront.net/trip-data/green_tripdata_2023-02.parquet\n",
        "!wget https://d37ci6vzurychx.cloudfront.net/trip-data/green_tripdata_2023-03.parquet\n",
        "\n",
        "# Moving the downloaded files to the data directory\n",
        "!mkdir -p data\n",
        "!mv green_tripdata_2023-01.parquet data/\n",
        "!mv green_tripdata_2023-02.parquet data/\n",
        "!mv green_tripdata_2023-03.parquet data/"
      ]
    },
    {
      "cell_type": "markdown",
      "id": "c1421612",
      "metadata": {},
      "source": [
        "### Preprocessing the data using the `preprocess_data` function"
      ]
    },
    {
      "cell_type": "code",
      "execution_count": 4,
      "id": "325b98eb",
      "metadata": {},
      "outputs": [],
      "source": [
        "# Preprocess the data and save it as a DictVectorizer object\n",
        "!python {SCRIPT_PATH}/preprocess_data.py --raw_data_path {RAW_DATA_PATH} --dest_path {VECTORIZED_DATA_PATH}"
      ]
    },
    {
      "cell_type": "code",
      "execution_count": 5,
      "id": "a082ebe7",
      "metadata": {},
      "outputs": [
        {
          "name": "stdout",
          "output_type": "stream",
          "text": [
            "Number of files in dataset_as_DictVectorizer: 4\n",
            "\n",
            "Files in the directory:\n",
            "- train.pkl\n",
            "- val.pkl\n",
            "- dv.pkl\n",
            "- test.pkl\n"
          ]
        }
      ],
      "source": [
        "import os\n",
        "\n",
        "# Get list of files in the directory\n",
        "files = os.listdir(f\"{VECTORIZED_DATA_PATH}\")\n",
        "file_count = len(files)\n",
        "\n",
        "print(f\"Number of files in dataset_as_DictVectorizer: {file_count}\")\n",
        "print(\"\\nFiles in the directory:\")\n",
        "for file in files:\n",
        "    print(f\"- {file}\")"
      ]
    },
    {
      "cell_type": "markdown",
      "id": "7b1bb4a2",
      "metadata": {},
      "source": [
        "## Q3. Train a model with autolog"
      ]
    },
    {
      "cell_type": "markdown",
      "id": "0c541639",
      "metadata": {},
      "source": [
        "What is the value of the min_samples_split parameter?\n"
      ]
    },
    {
      "cell_type": "markdown",
      "id": "d0a9d830",
      "metadata": {},
      "source": [
        "use the train scirpt to do experiment tracking using MLflow\n",
        "\n",
        "```bash \n",
        "python train.py --data_path ./dataset_as_DictVectorizer --model_path models/model.pkl\n",
        "```"
      ]
    },
    {
      "cell_type": "code",
      "execution_count": 8,
      "id": "4cb7fc12",
      "metadata": {},
      "outputs": [
        {
          "name": "stdout",
          "output_type": "stream",
          "text": [
            "Validation RMSE: 5.431162180141208\n"
          ]
        }
      ],
      "source": [
        "!python {SCRIPT_PATH}/train.py --data_path {VECTORIZED_DATA_PATH}"
      ]
    },
    {
      "cell_type": "markdown",
      "id": "81eaab34",
      "metadata": {},
      "source": [
        "#### The value of parameter `min_samples_split` is set to 2, from stored parameters in the MLflow UI.  \n",
        "![MLflow UI screenshot showing the parameter configuration with min_samples_split highlighted and set to value 2 in the model parameters section. The interface displays the experiment tracking details for the NYC taxi trip duration prediction model.](./images/mlops_zoomcamp_q3.png)"
      ]
    },
    {
      "cell_type": "markdown",
      "id": "4854f931",
      "metadata": {},
      "source": [
        "## Q4. Launch the tracking server locally\n"
      ]
    },
    {
      "cell_type": "markdown",
      "id": "e23639f0",
      "metadata": {},
      "source": [
        "what else do you need to pass to properly configure the server?\n",
        "\n",
        "* `default-artifact-root`  \n",
        "* `serve-artifacts`  \n",
        "* `artifacts-only`  \n",
        "* `artifacts-destination`  "
      ]
    },
    {
      "cell_type": "code",
      "execution_count": null,
      "id": "b542d46a",
      "metadata": {},
      "outputs": [],
      "source": [
        "!mlflow server --backend-store-uri sqlite:///mlruns.db --default-artifact-root ./artifacts\n",
        "# The answer is default-artifact-root"
      ]
    },
    {
      "cell_type": "markdown",
      "id": "19d12c4a",
      "metadata": {},
      "source": [
        "## Q5. Tune model hyperparameters\n",
        "\n",
        "What's the best validation RMSE that you got?"
      ]
    },
    {
      "cell_type": "code",
      "execution_count": 9,
      "id": "cc35af17",
      "metadata": {},
      "outputs": [
        {
          "name": "stdout",
          "output_type": "stream",
          "text": [
            "2025/05/26 20:10:12 INFO mlflow.tracking.fluent: Experiment with name 'random-forest-hyperopt' does not exist. Creating a new experiment.\n",
            "🏃 View run exultant-shoat-85 at: http://127.0.0.1:5000/#/experiments/2/runs/77ac45d3787546fe92b93b0c82476188\n",
            "\n",
            "🧪 View experiment at: http://127.0.0.1:5000/#/experiments/2                    \n",
            "\n",
            "🏃 View run learned-bass-18 at: http://127.0.0.1:5000/#/experiments/2/runs/a08e80a337084a32bbf26e769acca7bf\n",
            "\n",
            "🧪 View experiment at: http://127.0.0.1:5000/#/experiments/2                    \n",
            "\n",
            "🏃 View run bright-panda-651 at: http://127.0.0.1:5000/#/experiments/2/runs/7fdc30ad8e024e29afb75e826c261327\n",
            "\n",
            "🧪 View experiment at: http://127.0.0.1:5000/#/experiments/2                    \n",
            "\n",
            "🏃 View run redolent-mule-433 at: http://127.0.0.1:5000/#/experiments/2/runs/d3e3deb29f8a47e5822f156b90754888\n",
            "\n",
            "🧪 View experiment at: http://127.0.0.1:5000/#/experiments/2                    \n",
            "\n",
            "🏃 View run honorable-sheep-231 at: http://127.0.0.1:5000/#/experiments/2/runs/934c769382de4774863790ae8ef1bdd5\n",
            "\n",
            "🧪 View experiment at: http://127.0.0.1:5000/#/experiments/2                    \n",
            "\n",
            "🏃 View run rare-sheep-772 at: http://127.0.0.1:5000/#/experiments/2/runs/edcdefb3e7b64c87a510b027c3312cb1\n",
            "\n",
            "🧪 View experiment at: http://127.0.0.1:5000/#/experiments/2                    \n",
            "\n",
            "🏃 View run unique-croc-823 at: http://127.0.0.1:5000/#/experiments/2/runs/63542e4522134f09b6664420a4bad664\n",
            "\n",
            "🧪 View experiment at: http://127.0.0.1:5000/#/experiments/2                    \n",
            "\n",
            "🏃 View run bald-dolphin-201 at: http://127.0.0.1:5000/#/experiments/2/runs/0067c4a29ce7410caf5ece21d48e9825\n",
            "\n",
            "🧪 View experiment at: http://127.0.0.1:5000/#/experiments/2                    \n",
            "\n",
            "🏃 View run grandiose-vole-487 at: http://127.0.0.1:5000/#/experiments/2/runs/ad17fe7ed98a4e49a0e94f4bf8f74fa7\n",
            "\n",
            "🧪 View experiment at: http://127.0.0.1:5000/#/experiments/2                    \n",
            "\n",
            "🏃 View run bright-dog-723 at: http://127.0.0.1:5000/#/experiments/2/runs/fa1bdc01505e4313869c030488cbbe1b\n",
            "\n",
            "🧪 View experiment at: http://127.0.0.1:5000/#/experiments/2                    \n",
            "\n",
            "🏃 View run awesome-dove-402 at: http://127.0.0.1:5000/#/experiments/2/runs/0cadd95d9d1a49f3828bacda0a449377\n",
            "\n",
            "🧪 View experiment at: http://127.0.0.1:5000/#/experiments/2                    \n",
            "\n",
            "🏃 View run omniscient-snipe-775 at: http://127.0.0.1:5000/#/experiments/2/runs/46e424c170594c1493873515fe21b9aa\n",
            "\n",
            "🧪 View experiment at: http://127.0.0.1:5000/#/experiments/2                    \n",
            "\n",
            "🏃 View run polite-carp-100 at: http://127.0.0.1:5000/#/experiments/2/runs/926be3f6e7b74b39b68dc7a92905f167\n",
            "\n",
            "🧪 View experiment at: http://127.0.0.1:5000/#/experiments/2                    \n",
            "\n",
            "🏃 View run redolent-bird-223 at: http://127.0.0.1:5000/#/experiments/2/runs/acbba3bbd89c47ddbf96489ee5df28ee\n",
            "\n",
            "🧪 View experiment at: http://127.0.0.1:5000/#/experiments/2                    \n",
            "\n",
            "🏃 View run aged-fly-69 at: http://127.0.0.1:5000/#/experiments/2/runs/0920b4b7fc1d45edb0e7bf1d1d42f5ae\n",
            "\n",
            "🧪 View experiment at: http://127.0.0.1:5000/#/experiments/2                    \n",
            "\n",
            "100%|██████████| 15/15 [01:03<00:00,  4.21s/trial, best loss: 5.335419588556921]\n"
          ]
        }
      ],
      "source": [
        "!python {SCRIPT_PATH}/hpo.py --data_path {VECTORIZED_DATA_PATH}"
      ]
    },
    {
      "cell_type": "markdown",
      "id": "e8ae031b",
      "metadata": {},
      "source": [
        "After hyperparameter optimization with different model configurations, the best validation RMSE achieved was 5.335419588556921."
      ]
    },
    {
      "cell_type": "markdown",
      "id": "74176ecf",
      "metadata": {},
      "source": [
        "## Q6. Promote the best model to the model registry"
      ]
    },
    {
      "cell_type": "code",
      "execution_count": 10,
      "id": "8156ef91",
      "metadata": {},
      "outputs": [
        {
          "name": "stdout",
          "output_type": "stream",
          "text": [
            "2025/05/26 20:18:45 INFO mlflow.tracking.fluent: Experiment with name 'random-forest-best-models-v2' does not exist. Creating a new experiment.\n",
            "🏃 View run judicious-croc-890 at: http://127.0.0.1:5000/#/experiments/3/runs/187ca8ebf7364cfba5f69ba90c75c3b3\n",
            "🧪 View experiment at: http://127.0.0.1:5000/#/experiments/3\n",
            "🏃 View run carefree-donkey-755 at: http://127.0.0.1:5000/#/experiments/3/runs/1429eba1016541d28333a61581a1cc5c\n",
            "🧪 View experiment at: http://127.0.0.1:5000/#/experiments/3\n",
            "🏃 View run bemused-stag-609 at: http://127.0.0.1:5000/#/experiments/3/runs/346fe1d69e4045bc8d63899a132cce51\n",
            "🧪 View experiment at: http://127.0.0.1:5000/#/experiments/3\n",
            "🏃 View run judicious-gnat-347 at: http://127.0.0.1:5000/#/experiments/3/runs/477e1e70ec924c999503eaaa3b3b0ecd\n",
            "🧪 View experiment at: http://127.0.0.1:5000/#/experiments/3\n",
            "🏃 View run agreeable-rat-411 at: http://127.0.0.1:5000/#/experiments/3/runs/4205a74fe5954151becfbe5aca69c454\n",
            "🧪 View experiment at: http://127.0.0.1:5000/#/experiments/3\n",
            "Successfully registered model 'Random Forest Model Green NYC Taxi'.\n",
            "2025/05/26 20:19:15 INFO mlflow.store.model_registry.abstract_store: Waiting up to 300 seconds for model version to finish creation. Model name: Random Forest Model Green NYC Taxi, version 1\n",
            "Created version '1' of model 'Random Forest Model Green NYC Taxi'.\n"
          ]
        }
      ],
      "source": [
        "!python {SCRIPT_PATH}/register_model.py --data_path {VECTORIZED_DATA_PATH}"
      ]
    },
    {
      "cell_type": "markdown",
      "id": "a4a8bf31",
      "metadata": {},
      "source": [
        "The test RMSE of the best model after promotion to the registry is 5.567. This represents our final model performance on unseen data.\n",
        "\n",
        "![Random Forest Best Models V2](./images/random_forest_best_models_v2.png)"
      ]
    }
  ],
  "metadata": {
    "colab": {
      "provenance": [],
      "toc_visible": true
    },
    "kernelspec": {
      "display_name": "Python 3 (ipykernel)",
      "language": "python",
      "name": "python3"
    },
    "language_info": {
      "codemirror_mode": {
        "name": "ipython",
        "version": 3
      },
      "file_extension": ".py",
      "mimetype": "text/x-python",
      "name": "python",
      "nbconvert_exporter": "python",
      "pygments_lexer": "ipython3",
      "version": "3.9.12"
    }
  },
  "nbformat": 4,
  "nbformat_minor": 5
}
