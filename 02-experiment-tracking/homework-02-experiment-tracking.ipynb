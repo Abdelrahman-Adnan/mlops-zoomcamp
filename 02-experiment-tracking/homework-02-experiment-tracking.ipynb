{
  "cells": [
    {
      "cell_type": "code",
      "execution_count": 4,
      "id": "8e1bca0b",
      "metadata": {
        "id": "8e1bca0b"
      },
      "outputs": [],
      "source": [
        "%config AsyncShell.timeout = 300  # Increase to 300 seconds\n",
        "import pandas as pd\n",
        "import pickle\n",
        "import numpy as np\n",
        "import seaborn as sns\n",
        "import matplotlib.pyplot as plt\n",
        "from sklearn.feature_extraction import DictVectorizer\n",
        "from sklearn.linear_model import LinearRegression\n",
        "from sklearn.linear_model import Lasso\n",
        "from sklearn.linear_model import Ridge\n",
        "from sklearn.metrics import mean_squared_error\n",
        "import pandas as pd\n",
        "import sklearn\n",
        "import pyarrow"
      ]
    },
    {
      "cell_type": "code",
      "execution_count": 3,
      "id": "73020dba",
      "metadata": {},
      "outputs": [
        {
          "name": "stderr",
          "output_type": "stream",
          "text": [
            "2025/05/25 15:40:19 INFO mlflow.tracking.fluent: Experiment with name 'nyc-taxi-experiment' does not exist. Creating a new experiment.\n"
          ]
        },
        {
          "data": {
            "text/plain": [
              "<Experiment: artifact_location='/workspaces/mlops-zoomcamp/02-experiment-tracking/mlruns/1', creation_time=1748187619913, experiment_id='1', last_update_time=1748187619913, lifecycle_stage='active', name='nyc-taxi-experiment', tags={}>"
            ]
          },
          "execution_count": 3,
          "metadata": {},
          "output_type": "execute_result"
        }
      ],
      "source": [
        "import mlflow\n",
        "import sqlite3\n",
        "\n",
        "# Here we set the tracking URI to a local SQLite database named \"mlflow.db\".\n",
        "mlflow.set_tracking_uri(\"sqlite:///mlflow.db\")\n",
        "\n",
        "# Next we set the experiment name to \"nyc-taxi-experiment\".\n",
        "# First, let's delete the experiment permanently from the database\n",
        "\n",
        "# Connect to the SQLite database\n",
        "conn = sqlite3.connect(\"mlflow.db\")\n",
        "cursor = conn.cursor()\n",
        "\n",
        "# Delete the experiment from the experiments table\n",
        "cursor.execute(\"DELETE FROM experiments WHERE name = ?\", (\"nyc-taxi-experiment\",))\n",
        "\n",
        "# Commit the changes and close the connection\n",
        "conn.commit()\n",
        "conn.close()\n",
        "\n",
        "# Now we can create a new experiment with the same name\n",
        "mlflow.set_experiment(\"nyc-taxi-experiment\")"
      ]
    },
    {
      "cell_type": "markdown",
      "id": "e8e45102",
      "metadata": {},
      "source": [
        "## Q1. What is the version of MlFlow that we currently use?"
      ]
    },
    {
      "cell_type": "code",
      "execution_count": 13,
      "id": "fe4d2d33",
      "metadata": {},
      "outputs": [
        {
          "name": "stdout",
          "output_type": "stream",
          "text": [
            "/home/codespace/anaconda3/lib/python3.9/site-packages/pandas/core/computation/expressions.py:21: UserWarning: Pandas requires version '2.8.4' or newer of 'numexpr' (version '2.8.1' currently installed).\n",
            "  from pandas.core.computation.check import NUMEXPR_INSTALLED\n",
            "/home/codespace/anaconda3/lib/python3.9/site-packages/pandas/core/arrays/masked.py:60: UserWarning: Pandas requires version '1.3.6' or newer of 'bottleneck' (version '1.3.4' currently installed).\n",
            "  from pandas.core import (\n",
            "mlflow, version 2.22.0\n"
          ]
        }
      ],
      "source": [
        "!mlflow --version"
      ]
    },
    {
      "cell_type": "markdown",
      "id": "e2454ed8",
      "metadata": {},
      "source": [
        "## Q2. Download and preprocess the data"
      ]
    },
    {
      "cell_type": "code",
      "execution_count": 16,
      "id": "af5af795",
      "metadata": {},
      "outputs": [
        {
          "name": "stdout",
          "output_type": "stream",
          "text": [
            "--2025-05-25 16:02:05--  https://d37ci6vzurychx.cloudfront.net/trip-data/green_tripdata_2023-01.parquet\n",
            "Resolving d37ci6vzurychx.cloudfront.net (d37ci6vzurychx.cloudfront.net)... 18.239.38.163, 18.239.38.181, 18.239.38.83, ...\n",
            "Connecting to d37ci6vzurychx.cloudfront.net (d37ci6vzurychx.cloudfront.net)|18.239.38.163|:443... connected.\n",
            "HTTP request sent, awaiting response... 200 OK\n",
            "Length: 1427002 (1.4M) [binary/octet-stream]\n",
            "Saving to: ‘green_tripdata_2023-01.parquet’\n",
            "\n",
            "green_tripdata_2023 100%[===================>]   1.36M  --.-KB/s    in 0.01s   \n",
            "\n",
            "2025-05-25 16:02:05 (137 MB/s) - ‘green_tripdata_2023-01.parquet’ saved [1427002/1427002]\n",
            "\n",
            "--2025-05-25 16:02:05--  https://d37ci6vzurychx.cloudfront.net/trip-data/green_tripdata_2023-02.parquet\n",
            "Resolving d37ci6vzurychx.cloudfront.net (d37ci6vzurychx.cloudfront.net)... 18.239.38.181, 18.239.38.83, 18.239.38.147, ...\n",
            "Connecting to d37ci6vzurychx.cloudfront.net (d37ci6vzurychx.cloudfront.net)|18.239.38.181|:443... connected.\n",
            "HTTP request sent, awaiting response... 200 OK\n",
            "Length: 1533740 (1.5M) [binary/octet-stream]\n",
            "Saving to: ‘green_tripdata_2023-02.parquet’\n",
            "\n",
            "green_tripdata_2023 100%[===================>]   1.46M  --.-KB/s    in 0.007s  \n",
            "\n",
            "2025-05-25 16:02:05 (204 MB/s) - ‘green_tripdata_2023-02.parquet’ saved [1533740/1533740]\n",
            "\n",
            "--2025-05-25 16:02:06--  https://d37ci6vzurychx.cloudfront.net/trip-data/green_tripdata_2023-03.parquet\n",
            "Resolving d37ci6vzurychx.cloudfront.net (d37ci6vzurychx.cloudfront.net)... 18.239.38.163, 18.239.38.83, 18.239.38.147, ...\n",
            "Connecting to d37ci6vzurychx.cloudfront.net (d37ci6vzurychx.cloudfront.net)|18.239.38.163|:443... connected.\n",
            "HTTP request sent, awaiting response... 200 OK\n",
            "Length: 1730999 (1.7M) [binary/octet-stream]\n",
            "Saving to: ‘green_tripdata_2023-03.parquet’\n",
            "\n",
            "green_tripdata_2023 100%[===================>]   1.65M  --.-KB/s    in 0.01s   \n",
            "\n",
            "2025-05-25 16:02:06 (153 MB/s) - ‘green_tripdata_2023-03.parquet’ saved [1730999/1730999]\n",
            "\n"
          ]
        }
      ],
      "source": [
        "# Download the data for Green Taxi Trips from 2023 january to March\n",
        "!wget https://d37ci6vzurychx.cloudfront.net/trip-data/green_tripdata_2023-01.parquet\n",
        "!wget https://d37ci6vzurychx.cloudfront.net/trip-data/green_tripdata_2023-02.parquet\n",
        "!wget https://d37ci6vzurychx.cloudfront.net/trip-data/green_tripdata_2023-03.parquet\n",
        "\n",
        "# Moving the downloaded files to the data directory\n",
        "!mkdir -p data\n",
        "!mv green_tripdata_2023-01.parquet data/\n",
        "!mv green_tripdata_2023-02.parquet data/\n",
        "!mv green_tripdata_2023-03.parquet data/"
      ]
    },
    {
      "cell_type": "markdown",
      "id": "c1421612",
      "metadata": {},
      "source": [
        "### Preprocessing the data using the `preprocess_data` function"
      ]
    },
    {
      "cell_type": "code",
      "execution_count": null,
      "id": "325b98eb",
      "metadata": {},
      "outputs": [
        {
          "name": "stdout",
          "output_type": "stream",
          "text": [
            "/home/codespace/anaconda3/lib/python3.9/site-packages/pandas/core/computation/expressions.py:21: UserWarning: Pandas requires version '2.8.4' or newer of 'numexpr' (version '2.8.1' currently installed).\n",
            "  from pandas.core.computation.check import NUMEXPR_INSTALLED\n",
            "/home/codespace/anaconda3/lib/python3.9/site-packages/pandas/core/arrays/masked.py:60: UserWarning: Pandas requires version '1.3.6' or newer of 'bottleneck' (version '1.3.4' currently installed).\n",
            "  from pandas.core import (\n"
          ]
        }
      ],
      "source": [
        "# Preprocess the data and save it as a DictVectorizer object\n",
        "!python preprocess_data.py --raw_data_path data --dest_path ./dataset_as_DictVectorizer/"
      ]
    },
    {
      "cell_type": "markdown",
      "id": "7b1bb4a2",
      "metadata": {},
      "source": [
        "## Q3. Train a model with autolog"
      ]
    },
    {
      "cell_type": "markdown",
      "id": "50c9b66a",
      "metadata": {
        "id": "50c9b66a"
      },
      "source": [
        "Get the size of the data set. How much memory it Takes?"
      ]
    },
    {
      "cell_type": "code",
      "execution_count": 19,
      "id": "04fd5c9f",
      "metadata": {
        "colab": {
          "base_uri": "https://localhost:8080/"
        },
        "id": "04fd5c9f",
        "outputId": "e797feea-5089-4c60-bae1-c770bb0675fc"
      },
      "outputs": [
        {
          "name": "stdout",
          "output_type": "stream",
          "text": [
            "<class 'pandas.core.frame.DataFrame'>\n",
            "RangeIndex: 3066766 entries, 0 to 3066765\n",
            "Data columns (total 20 columns):\n",
            " #   Column                 Dtype         \n",
            "---  ------                 -----         \n",
            " 0   VendorID               category      \n",
            " 1   tpep_pickup_datetime   datetime64[us]\n",
            " 2   tpep_dropoff_datetime  datetime64[us]\n",
            " 3   passenger_count        category      \n",
            " 4   trip_distance          float64       \n",
            " 5   RatecodeID             category      \n",
            " 6   store_and_fwd_flag     category      \n",
            " 7   PULocationID           category      \n",
            " 8   DOLocationID           category      \n",
            " 9   payment_type           category      \n",
            " 10  fare_amount            float64       \n",
            " 11  extra                  category      \n",
            " 12  mta_tax                category      \n",
            " 13  tip_amount             float64       \n",
            " 14  tolls_amount           float64       \n",
            " 15  improvement_surcharge  category      \n",
            " 16  total_amount           float64       \n",
            " 17  congestion_surcharge   category      \n",
            " 18  airport_fee            category      \n",
            " 19  duration               float64       \n",
            "dtypes: category(12), datetime64[us](2), float64(6)\n",
            "memory usage: 228.2 MB\n"
          ]
        }
      ],
      "source": [
        "# Getting info about the dataframe and the used memory size\n",
        "df.info(memory_usage='deep')"
      ]
    },
    {
      "cell_type": "code",
      "execution_count": 20,
      "id": "8d0ffb6c",
      "metadata": {
        "colab": {
          "base_uri": "https://localhost:8080/",
          "height": 226
        },
        "id": "8d0ffb6c",
        "outputId": "b8a96323-2e8e-424b-e07c-3d40feddaafd"
      },
      "outputs": [
        {
          "data": {
            "text/html": [
              "<div>\n",
              "<style scoped>\n",
              "    .dataframe tbody tr th:only-of-type {\n",
              "        vertical-align: middle;\n",
              "    }\n",
              "\n",
              "    .dataframe tbody tr th {\n",
              "        vertical-align: top;\n",
              "    }\n",
              "\n",
              "    .dataframe thead th {\n",
              "        text-align: right;\n",
              "    }\n",
              "</style>\n",
              "<table border=\"1\" class=\"dataframe\">\n",
              "  <thead>\n",
              "    <tr style=\"text-align: right;\">\n",
              "      <th></th>\n",
              "      <th>VendorID</th>\n",
              "      <th>tpep_pickup_datetime</th>\n",
              "      <th>tpep_dropoff_datetime</th>\n",
              "      <th>passenger_count</th>\n",
              "      <th>trip_distance</th>\n",
              "      <th>RatecodeID</th>\n",
              "      <th>store_and_fwd_flag</th>\n",
              "      <th>PULocationID</th>\n",
              "      <th>DOLocationID</th>\n",
              "      <th>payment_type</th>\n",
              "      <th>fare_amount</th>\n",
              "      <th>extra</th>\n",
              "      <th>mta_tax</th>\n",
              "      <th>tip_amount</th>\n",
              "      <th>tolls_amount</th>\n",
              "      <th>improvement_surcharge</th>\n",
              "      <th>total_amount</th>\n",
              "      <th>congestion_surcharge</th>\n",
              "      <th>airport_fee</th>\n",
              "      <th>duration</th>\n",
              "    </tr>\n",
              "  </thead>\n",
              "  <tbody>\n",
              "    <tr>\n",
              "      <th>0</th>\n",
              "      <td>2</td>\n",
              "      <td>2023-01-01 00:32:10</td>\n",
              "      <td>2023-01-01 00:40:36</td>\n",
              "      <td>1.0</td>\n",
              "      <td>0.97</td>\n",
              "      <td>1.0</td>\n",
              "      <td>N</td>\n",
              "      <td>161</td>\n",
              "      <td>141</td>\n",
              "      <td>2</td>\n",
              "      <td>9.3</td>\n",
              "      <td>1.00</td>\n",
              "      <td>0.5</td>\n",
              "      <td>0.00</td>\n",
              "      <td>0.0</td>\n",
              "      <td>1.0</td>\n",
              "      <td>14.30</td>\n",
              "      <td>2.5</td>\n",
              "      <td>0.00</td>\n",
              "      <td>8.433333</td>\n",
              "    </tr>\n",
              "    <tr>\n",
              "      <th>1</th>\n",
              "      <td>2</td>\n",
              "      <td>2023-01-01 00:55:08</td>\n",
              "      <td>2023-01-01 01:01:27</td>\n",
              "      <td>1.0</td>\n",
              "      <td>1.10</td>\n",
              "      <td>1.0</td>\n",
              "      <td>N</td>\n",
              "      <td>43</td>\n",
              "      <td>237</td>\n",
              "      <td>1</td>\n",
              "      <td>7.9</td>\n",
              "      <td>1.00</td>\n",
              "      <td>0.5</td>\n",
              "      <td>4.00</td>\n",
              "      <td>0.0</td>\n",
              "      <td>1.0</td>\n",
              "      <td>16.90</td>\n",
              "      <td>2.5</td>\n",
              "      <td>0.00</td>\n",
              "      <td>6.316667</td>\n",
              "    </tr>\n",
              "    <tr>\n",
              "      <th>2</th>\n",
              "      <td>2</td>\n",
              "      <td>2023-01-01 00:25:04</td>\n",
              "      <td>2023-01-01 00:37:49</td>\n",
              "      <td>1.0</td>\n",
              "      <td>2.51</td>\n",
              "      <td>1.0</td>\n",
              "      <td>N</td>\n",
              "      <td>48</td>\n",
              "      <td>238</td>\n",
              "      <td>1</td>\n",
              "      <td>14.9</td>\n",
              "      <td>1.00</td>\n",
              "      <td>0.5</td>\n",
              "      <td>15.00</td>\n",
              "      <td>0.0</td>\n",
              "      <td>1.0</td>\n",
              "      <td>34.90</td>\n",
              "      <td>2.5</td>\n",
              "      <td>0.00</td>\n",
              "      <td>12.750000</td>\n",
              "    </tr>\n",
              "    <tr>\n",
              "      <th>3</th>\n",
              "      <td>1</td>\n",
              "      <td>2023-01-01 00:03:48</td>\n",
              "      <td>2023-01-01 00:13:25</td>\n",
              "      <td>0.0</td>\n",
              "      <td>1.90</td>\n",
              "      <td>1.0</td>\n",
              "      <td>N</td>\n",
              "      <td>138</td>\n",
              "      <td>7</td>\n",
              "      <td>1</td>\n",
              "      <td>12.1</td>\n",
              "      <td>7.25</td>\n",
              "      <td>0.5</td>\n",
              "      <td>0.00</td>\n",
              "      <td>0.0</td>\n",
              "      <td>1.0</td>\n",
              "      <td>20.85</td>\n",
              "      <td>0.0</td>\n",
              "      <td>1.25</td>\n",
              "      <td>9.616667</td>\n",
              "    </tr>\n",
              "    <tr>\n",
              "      <th>4</th>\n",
              "      <td>2</td>\n",
              "      <td>2023-01-01 00:10:29</td>\n",
              "      <td>2023-01-01 00:21:19</td>\n",
              "      <td>1.0</td>\n",
              "      <td>1.43</td>\n",
              "      <td>1.0</td>\n",
              "      <td>N</td>\n",
              "      <td>107</td>\n",
              "      <td>79</td>\n",
              "      <td>1</td>\n",
              "      <td>11.4</td>\n",
              "      <td>1.00</td>\n",
              "      <td>0.5</td>\n",
              "      <td>3.28</td>\n",
              "      <td>0.0</td>\n",
              "      <td>1.0</td>\n",
              "      <td>19.68</td>\n",
              "      <td>2.5</td>\n",
              "      <td>0.00</td>\n",
              "      <td>10.833333</td>\n",
              "    </tr>\n",
              "  </tbody>\n",
              "</table>\n",
              "</div>"
            ],
            "text/plain": [
              "  VendorID tpep_pickup_datetime tpep_dropoff_datetime passenger_count  \\\n",
              "0        2  2023-01-01 00:32:10   2023-01-01 00:40:36             1.0   \n",
              "1        2  2023-01-01 00:55:08   2023-01-01 01:01:27             1.0   \n",
              "2        2  2023-01-01 00:25:04   2023-01-01 00:37:49             1.0   \n",
              "3        1  2023-01-01 00:03:48   2023-01-01 00:13:25             0.0   \n",
              "4        2  2023-01-01 00:10:29   2023-01-01 00:21:19             1.0   \n",
              "\n",
              "   trip_distance RatecodeID store_and_fwd_flag PULocationID DOLocationID  \\\n",
              "0           0.97        1.0                  N          161          141   \n",
              "1           1.10        1.0                  N           43          237   \n",
              "2           2.51        1.0                  N           48          238   \n",
              "3           1.90        1.0                  N          138            7   \n",
              "4           1.43        1.0                  N          107           79   \n",
              "\n",
              "  payment_type  fare_amount extra mta_tax  tip_amount  tolls_amount  \\\n",
              "0            2          9.3  1.00     0.5        0.00           0.0   \n",
              "1            1          7.9  1.00     0.5        4.00           0.0   \n",
              "2            1         14.9  1.00     0.5       15.00           0.0   \n",
              "3            1         12.1  7.25     0.5        0.00           0.0   \n",
              "4            1         11.4  1.00     0.5        3.28           0.0   \n",
              "\n",
              "  improvement_surcharge  total_amount congestion_surcharge airport_fee  \\\n",
              "0                   1.0         14.30                  2.5        0.00   \n",
              "1                   1.0         16.90                  2.5        0.00   \n",
              "2                   1.0         34.90                  2.5        0.00   \n",
              "3                   1.0         20.85                  0.0        1.25   \n",
              "4                   1.0         19.68                  2.5        0.00   \n",
              "\n",
              "    duration  \n",
              "0   8.433333  \n",
              "1   6.316667  \n",
              "2  12.750000  \n",
              "3   9.616667  \n",
              "4  10.833333  "
            ]
          },
          "execution_count": 20,
          "metadata": {},
          "output_type": "execute_result"
        }
      ],
      "source": [
        "df.head()"
      ]
    },
    {
      "cell_type": "code",
      "execution_count": 21,
      "id": "cbc1e337",
      "metadata": {
        "id": "cbc1e337"
      },
      "outputs": [],
      "source": [
        "# Adding new feature to get the trip distance\n",
        "df['duration'] = (df['tpep_dropoff_datetime'] - df['tpep_pickup_datetime']).dt.seconds / 60"
      ]
    },
    {
      "cell_type": "code",
      "execution_count": 9,
      "id": "c4e42f62",
      "metadata": {
        "colab": {
          "base_uri": "https://localhost:8080/",
          "height": 363
        },
        "id": "c4e42f62",
        "outputId": "63a0a337-1762-435e-e68c-4d7c1c79f2be"
      },
      "outputs": [
        {
          "data": {
            "text/html": [
              "<div>\n",
              "<style scoped>\n",
              "    .dataframe tbody tr th:only-of-type {\n",
              "        vertical-align: middle;\n",
              "    }\n",
              "\n",
              "    .dataframe tbody tr th {\n",
              "        vertical-align: top;\n",
              "    }\n",
              "\n",
              "    .dataframe thead th {\n",
              "        text-align: right;\n",
              "    }\n",
              "</style>\n",
              "<table border=\"1\" class=\"dataframe\">\n",
              "  <thead>\n",
              "    <tr style=\"text-align: right;\">\n",
              "      <th></th>\n",
              "      <th>trip_distance</th>\n",
              "      <th>duration</th>\n",
              "    </tr>\n",
              "  </thead>\n",
              "  <tbody>\n",
              "    <tr>\n",
              "      <th>2460754</th>\n",
              "      <td>16.83</td>\n",
              "      <td>1439.800000</td>\n",
              "    </tr>\n",
              "    <tr>\n",
              "      <th>127500</th>\n",
              "      <td>1.55</td>\n",
              "      <td>1439.650000</td>\n",
              "    </tr>\n",
              "    <tr>\n",
              "      <th>271181</th>\n",
              "      <td>24.48</td>\n",
              "      <td>1439.633333</td>\n",
              "    </tr>\n",
              "    <tr>\n",
              "      <th>1598991</th>\n",
              "      <td>8.63</td>\n",
              "      <td>1439.616667</td>\n",
              "    </tr>\n",
              "    <tr>\n",
              "      <th>2359185</th>\n",
              "      <td>2.19</td>\n",
              "      <td>1439.583333</td>\n",
              "    </tr>\n",
              "    <tr>\n",
              "      <th>2069061</th>\n",
              "      <td>12.64</td>\n",
              "      <td>1439.466667</td>\n",
              "    </tr>\n",
              "    <tr>\n",
              "      <th>927194</th>\n",
              "      <td>9.73</td>\n",
              "      <td>1439.433333</td>\n",
              "    </tr>\n",
              "    <tr>\n",
              "      <th>1910535</th>\n",
              "      <td>3.99</td>\n",
              "      <td>1439.433333</td>\n",
              "    </tr>\n",
              "    <tr>\n",
              "      <th>229908</th>\n",
              "      <td>19.54</td>\n",
              "      <td>1439.383333</td>\n",
              "    </tr>\n",
              "    <tr>\n",
              "      <th>2881681</th>\n",
              "      <td>1.52</td>\n",
              "      <td>1439.366667</td>\n",
              "    </tr>\n",
              "  </tbody>\n",
              "</table>\n",
              "</div>"
            ],
            "text/plain": [
              "         trip_distance     duration\n",
              "2460754          16.83  1439.800000\n",
              "127500            1.55  1439.650000\n",
              "271181           24.48  1439.633333\n",
              "1598991           8.63  1439.616667\n",
              "2359185           2.19  1439.583333\n",
              "2069061          12.64  1439.466667\n",
              "927194            9.73  1439.433333\n",
              "1910535           3.99  1439.433333\n",
              "229908           19.54  1439.383333\n",
              "2881681           1.52  1439.366667"
            ]
          },
          "execution_count": 9,
          "metadata": {},
          "output_type": "execute_result"
        }
      ],
      "source": [
        "(\n",
        "    df\n",
        "    [['trip_distance', 'duration']]\n",
        "    .sort_values('duration', ascending=False)\n",
        "    .head(10)\n",
        ")\n",
        "# The top 10 trips by trip_time all have extremely high values,\n",
        "# indicating likely data errors or outliers."
      ]
    },
    {
      "cell_type": "code",
      "execution_count": 10,
      "id": "602fff2e",
      "metadata": {
        "colab": {
          "base_uri": "https://localhost:8080/"
        },
        "id": "602fff2e",
        "outputId": "d4749ed0-0b7b-42e5-a494-d3d490e972e4"
      },
      "outputs": [
        {
          "data": {
            "text/plain": [
              "11"
            ]
          },
          "execution_count": 10,
          "metadata": {},
          "output_type": "execute_result"
        }
      ],
      "source": [
        "# number of passengers takes only one of 11 values, so it's better to convert it into category data type\n",
        "len(df['passenger_count'].unique())"
      ]
    },
    {
      "cell_type": "code",
      "execution_count": 11,
      "id": "aeacf26e",
      "metadata": {
        "colab": {
          "base_uri": "https://localhost:8080/",
          "height": 711
        },
        "id": "aeacf26e",
        "outputId": "35c8d8f2-a766-43b9-9de5-cc643d959594"
      },
      "outputs": [
        {
          "data": {
            "text/plain": [
              "VendorID                       2\n",
              "store_and_fwd_flag             2\n",
              "congestion_surcharge           3\n",
              "airport_fee                    3\n",
              "improvement_surcharge          5\n",
              "payment_type                   5\n",
              "RatecodeID                     7\n",
              "passenger_count               10\n",
              "mta_tax                       10\n",
              "extra                         68\n",
              "PULocationID                 257\n",
              "DOLocationID                 261\n",
              "tolls_amount                 776\n",
              "tip_amount                  4036\n",
              "trip_distance               4387\n",
              "fare_amount                 6873\n",
              "duration                    8570\n",
              "total_amount               15871\n",
              "tpep_pickup_datetime     1610975\n",
              "tpep_dropoff_datetime    1611319\n",
              "dtype: int64"
            ]
          },
          "execution_count": 11,
          "metadata": {},
          "output_type": "execute_result"
        }
      ],
      "source": [
        "# How many unique values at each feature?\n",
        "df.nunique().sort_values()"
      ]
    },
    {
      "cell_type": "code",
      "execution_count": 12,
      "id": "a9388566",
      "metadata": {
        "colab": {
          "base_uri": "https://localhost:8080/"
        },
        "id": "a9388566",
        "outputId": "22e6ac4b-f1cd-486e-ecb7-483e7c8b64cf"
      },
      "outputs": [
        {
          "name": "stdout",
          "output_type": "stream",
          "text": [
            "['VendorID', 'passenger_count', 'RatecodeID', 'store_and_fwd_flag', 'PULocationID', 'DOLocationID', 'payment_type', 'extra', 'mta_tax', 'improvement_surcharge', 'congestion_surcharge', 'airport_fee']\n"
          ]
        }
      ],
      "source": [
        "# get the names of columns with values less than 300 which will be converted into category\n",
        "categorical_columns = (df.nunique().loc[lambda _df: _df < 300] ).index.to_list()\n",
        "print(categorical_columns)\n",
        "df[categorical_columns] = df[categorical_columns].astype('category')"
      ]
    },
    {
      "cell_type": "code",
      "execution_count": 10,
      "id": "5ffab03d",
      "metadata": {
        "colab": {
          "base_uri": "https://localhost:8080/"
        },
        "id": "5ffab03d",
        "outputId": "301de9c4-b187-40ad-bb35-b8cb4d68d6ab"
      },
      "outputs": [
        {
          "name": "stdout",
          "output_type": "stream",
          "text": [
            "<class 'pandas.core.frame.DataFrame'>\n",
            "RangeIndex: 3066766 entries, 0 to 3066765\n",
            "Data columns (total 20 columns):\n",
            " #   Column                 Dtype         \n",
            "---  ------                 -----         \n",
            " 0   VendorID               category      \n",
            " 1   tpep_pickup_datetime   datetime64[ns]\n",
            " 2   tpep_dropoff_datetime  datetime64[ns]\n",
            " 3   passenger_count        category      \n",
            " 4   trip_distance          float64       \n",
            " 5   RatecodeID             category      \n",
            " 6   store_and_fwd_flag     category      \n",
            " 7   PULocationID           category      \n",
            " 8   DOLocationID           category      \n",
            " 9   payment_type           category      \n",
            " 10  fare_amount            float64       \n",
            " 11  extra                  category      \n",
            " 12  mta_tax                category      \n",
            " 13  tip_amount             float64       \n",
            " 14  tolls_amount           float64       \n",
            " 15  improvement_surcharge  category      \n",
            " 16  total_amount           float64       \n",
            " 17  congestion_surcharge   category      \n",
            " 18  airport_fee            category      \n",
            " 19  duration               float64       \n",
            "dtypes: category(12), datetime64[ns](2), float64(6)\n",
            "memory usage: 228.2 MB\n"
          ]
        }
      ],
      "source": [
        "# How much space we saved using after converting into categorical?\n",
        "df.info(memory_usage='deep')\n",
        "# we save more than 300MB which is more than 50% of the original size of the DataFrame"
      ]
    },
    {
      "cell_type": "markdown",
      "id": "0vqbuufyb6oM",
      "metadata": {
        "id": "0vqbuufyb6oM"
      },
      "source": [
        "### 2. Computing duration"
      ]
    },
    {
      "cell_type": "code",
      "execution_count": 11,
      "id": "262dbaef",
      "metadata": {
        "colab": {
          "base_uri": "https://localhost:8080/"
        },
        "id": "262dbaef",
        "outputId": "24aef370-b06d-4303-ea35-65ae2205ddae"
      },
      "outputs": [
        {
          "name": "stdout",
          "output_type": "stream",
          "text": [
            "Standard deviation of trip durations in January: 41.62919110962406\n"
          ]
        }
      ],
      "source": [
        "std_january_duration = df['duration'].std()\n",
        "print(f\"Standard deviation of trip durations in January: {std_january_duration}\")"
      ]
    },
    {
      "cell_type": "markdown",
      "id": "sMKw7vZpa7pY",
      "metadata": {
        "id": "sMKw7vZpa7pY"
      },
      "source": [
        "### 3. Dropping outliers"
      ]
    },
    {
      "cell_type": "code",
      "execution_count": 12,
      "id": "26893733",
      "metadata": {
        "id": "26893733"
      },
      "outputs": [],
      "source": [
        "# To remove outlier we make the duration only between 1 and 60 minutes.\n",
        "df = df.query(\" duration >=1 and duration <= 60\")"
      ]
    },
    {
      "cell_type": "code",
      "execution_count": 13,
      "id": "86abeda8",
      "metadata": {
        "colab": {
          "base_uri": "https://localhost:8080/",
          "height": 370
        },
        "id": "86abeda8",
        "outputId": "735c57f8-c784-49d8-ffc4-d12f7580a13a"
      },
      "outputs": [
        {
          "data": {
            "image/png": "[encoded data removed]",
            "text/plain": [
              "<Figure size 576x288 with 1 Axes>"
            ]
          },
          "metadata": {
            "needs_background": "light"
          },
          "output_type": "display_data"
        }
      ],
      "source": [
        "plt.figure(figsize=(8, 4))\n",
        "sns.histplot(df['duration'], kde=True, stat='density', color='royalblue', alpha=0.7)\n",
        "plt.xlabel('Trip Duration (minutes)')\n",
        "plt.ylabel('Density')\n",
        "plt.title('Distribution of Trip Duration')\n",
        "plt.show()"
      ]
    },
    {
      "cell_type": "code",
      "execution_count": 14,
      "id": "20641b2a",
      "metadata": {
        "colab": {
          "base_uri": "https://localhost:8080/"
        },
        "id": "20641b2a",
        "outputId": "e1ead7f7-13e4-446e-8997-1cf6185949ce"
      },
      "outputs": [
        {
          "name": "stdout",
          "output_type": "stream",
          "text": [
            "The size of the data set after dropping the outlier: 98.12 %\n"
          ]
        }
      ],
      "source": [
        "size_of_clean_df = df.shape[0]/ 3066766 * 100\n",
        "print(f\"The size of the data set after dropping the outlier: {size_of_clean_df:0.2f} %\")"
      ]
    },
    {
      "cell_type": "markdown",
      "id": "t2MoIEerasfe",
      "metadata": {
        "id": "t2MoIEerasfe"
      },
      "source": [
        "### 4. One-hot encoding"
      ]
    },
    {
      "cell_type": "code",
      "execution_count": 15,
      "id": "faeb11d2",
      "metadata": {
        "id": "faeb11d2"
      },
      "outputs": [],
      "source": [
        "categorical = ['PULocationID', 'DOLocationID']\n",
        "df[categorical] = df[categorical].astype(str)\n",
        "numerical = ['trip_distance']\n",
        "train_dicts = df[categorical + numerical].to_dict(orient='records')\n",
        "dv = DictVectorizer()\n",
        "X_train = dv.fit_transform(train_dicts)\n",
        "\n",
        "target = 'duration'\n",
        "y_train = df[target].values\n",
        "\n",
        "# We will use the DictVectorizer to convert the categorical features into a one-hot encoded format\n",
        "# and the numerical features will be used as is.\n",
        "# We will use the DictVectorizer to convert the categorical features into a one-hot encoded format"
      ]
    },
    {
      "cell_type": "code",
      "execution_count": 16,
      "id": "1cd7818b",
      "metadata": {
        "colab": {
          "base_uri": "https://localhost:8080/"
        },
        "id": "1cd7818b",
        "outputId": "fcea160e-9dd0-43f4-a270-b73bbafbc194"
      },
      "outputs": [
        {
          "name": "stdout",
          "output_type": "stream",
          "text": [
            "Feature matrix shape: (3009176, 516)\n"
          ]
        }
      ],
      "source": [
        "# Print the dimensionality (number of columns)\n",
        "print(f\"Feature matrix shape: {X_train.shape}\")"
      ]
    },
    {
      "cell_type": "markdown",
      "id": "4QcmB2XOaK84",
      "metadata": {
        "id": "4QcmB2XOaK84"
      },
      "source": [
        "### 5. Training a model"
      ]
    },
    {
      "cell_type": "code",
      "execution_count": 17,
      "id": "2086b166",
      "metadata": {
        "colab": {
          "base_uri": "https://localhost:8080/"
        },
        "id": "2086b166",
        "outputId": "afb60f4f-e1cd-47ca-8403-ea96a183e103"
      },
      "outputs": [
        {
          "name": "stdout",
          "output_type": "stream",
          "text": [
            "Time taken to train the model: 19.22462034225464\n",
            "Train RMSE: 7.649152894155631\n"
          ]
        }
      ],
      "source": [
        "import time\n",
        "start = time.time()\n",
        "\n",
        "lr = LinearRegression()\n",
        "lr.fit(X_train, y_train)\n",
        "\n",
        "y_pred = lr.predict(X_train)\n",
        "\n",
        "end = time.time()\n",
        "print(f\"Time taken to train the model: {end - start}\")\n",
        "rmse_train = np.sqrt(mean_squared_error(y_train, y_pred))\n",
        "print(f'Train RMSE: {rmse_train}')"
      ]
    },
    {
      "cell_type": "code",
      "execution_count": 18,
      "id": "e0b52034",
      "metadata": {
        "colab": {
          "base_uri": "https://localhost:8080/",
          "height": 392
        },
        "id": "e0b52034",
        "outputId": "50aafd9a-092f-49dc-bd5c-186872c79266"
      },
      "outputs": [
        {
          "data": {
            "image/png": "[encoded data removed]",
            "text/plain": [
              "<Figure size 720x432 with 1 Axes>"
            ]
          },
          "metadata": {
            "needs_background": "light"
          },
          "output_type": "display_data"
        }
      ],
      "source": [
        "# the actual vs the predicted values\n",
        "plt.figure(figsize=(10, 6))\n",
        "sns.set_style(\"whitegrid\")\n",
        "sns.histplot(y_pred, label='Prediction', color='royalblue', kde=True, stat='density', alpha=0.6)\n",
        "sns.histplot(y_train, label='Actual', color='orange', kde=True, stat='density', alpha=0.6)\n",
        "plt.xlabel('Trip Duration (minutes)')\n",
        "plt.ylabel('Density')\n",
        "plt.title('Distribution of Actual vs Predicted Trip Durations')\n",
        "plt.legend()\n",
        "plt.tight_layout()\n",
        "plt.show()"
      ]
    },
    {
      "cell_type": "code",
      "execution_count": 19,
      "id": "cf46876e",
      "metadata": {
        "colab": {
          "base_uri": "https://localhost:8080/",
          "height": 226
        },
        "id": "cf46876e",
        "outputId": "5520867f-8e28-42f9-c344-e1d27e59d349"
      },
      "outputs": [
        {
          "data": {
            "text/html": [
              "<div>\n",
              "<style scoped>\n",
              "    .dataframe tbody tr th:only-of-type {\n",
              "        vertical-align: middle;\n",
              "    }\n",
              "\n",
              "    .dataframe tbody tr th {\n",
              "        vertical-align: top;\n",
              "    }\n",
              "\n",
              "    .dataframe thead th {\n",
              "        text-align: right;\n",
              "    }\n",
              "</style>\n",
              "<table border=\"1\" class=\"dataframe\">\n",
              "  <thead>\n",
              "    <tr style=\"text-align: right;\">\n",
              "      <th></th>\n",
              "      <th>VendorID</th>\n",
              "      <th>tpep_pickup_datetime</th>\n",
              "      <th>tpep_dropoff_datetime</th>\n",
              "      <th>passenger_count</th>\n",
              "      <th>trip_distance</th>\n",
              "      <th>RatecodeID</th>\n",
              "      <th>store_and_fwd_flag</th>\n",
              "      <th>PULocationID</th>\n",
              "      <th>DOLocationID</th>\n",
              "      <th>payment_type</th>\n",
              "      <th>fare_amount</th>\n",
              "      <th>extra</th>\n",
              "      <th>mta_tax</th>\n",
              "      <th>tip_amount</th>\n",
              "      <th>tolls_amount</th>\n",
              "      <th>improvement_surcharge</th>\n",
              "      <th>total_amount</th>\n",
              "      <th>congestion_surcharge</th>\n",
              "      <th>Airport_fee</th>\n",
              "      <th>duration</th>\n",
              "    </tr>\n",
              "  </thead>\n",
              "  <tbody>\n",
              "    <tr>\n",
              "      <th>0</th>\n",
              "      <td>1</td>\n",
              "      <td>2023-02-01 00:32:53</td>\n",
              "      <td>2023-02-01 00:34:34</td>\n",
              "      <td>2.0</td>\n",
              "      <td>0.30</td>\n",
              "      <td>1.0</td>\n",
              "      <td>N</td>\n",
              "      <td>142</td>\n",
              "      <td>163</td>\n",
              "      <td>2</td>\n",
              "      <td>4.4</td>\n",
              "      <td>3.50</td>\n",
              "      <td>0.5</td>\n",
              "      <td>0.00</td>\n",
              "      <td>0.0</td>\n",
              "      <td>1.0</td>\n",
              "      <td>9.40</td>\n",
              "      <td>2.5</td>\n",
              "      <td>0.00</td>\n",
              "      <td>1.683333</td>\n",
              "    </tr>\n",
              "    <tr>\n",
              "      <th>3</th>\n",
              "      <td>1</td>\n",
              "      <td>2023-02-01 00:29:33</td>\n",
              "      <td>2023-02-01 01:01:38</td>\n",
              "      <td>0.0</td>\n",
              "      <td>18.80</td>\n",
              "      <td>1.0</td>\n",
              "      <td>N</td>\n",
              "      <td>132</td>\n",
              "      <td>26</td>\n",
              "      <td>1</td>\n",
              "      <td>70.9</td>\n",
              "      <td>2.25</td>\n",
              "      <td>0.5</td>\n",
              "      <td>0.00</td>\n",
              "      <td>0.0</td>\n",
              "      <td>1.0</td>\n",
              "      <td>74.65</td>\n",
              "      <td>0.0</td>\n",
              "      <td>1.25</td>\n",
              "      <td>32.083333</td>\n",
              "    </tr>\n",
              "    <tr>\n",
              "      <th>4</th>\n",
              "      <td>2</td>\n",
              "      <td>2023-02-01 00:12:28</td>\n",
              "      <td>2023-02-01 00:25:46</td>\n",
              "      <td>1.0</td>\n",
              "      <td>3.22</td>\n",
              "      <td>1.0</td>\n",
              "      <td>N</td>\n",
              "      <td>161</td>\n",
              "      <td>145</td>\n",
              "      <td>1</td>\n",
              "      <td>17.0</td>\n",
              "      <td>1.00</td>\n",
              "      <td>0.5</td>\n",
              "      <td>3.30</td>\n",
              "      <td>0.0</td>\n",
              "      <td>1.0</td>\n",
              "      <td>25.30</td>\n",
              "      <td>2.5</td>\n",
              "      <td>0.00</td>\n",
              "      <td>13.300000</td>\n",
              "    </tr>\n",
              "    <tr>\n",
              "      <th>5</th>\n",
              "      <td>1</td>\n",
              "      <td>2023-02-01 00:52:40</td>\n",
              "      <td>2023-02-01 01:07:18</td>\n",
              "      <td>1.0</td>\n",
              "      <td>5.10</td>\n",
              "      <td>1.0</td>\n",
              "      <td>N</td>\n",
              "      <td>148</td>\n",
              "      <td>236</td>\n",
              "      <td>1</td>\n",
              "      <td>21.9</td>\n",
              "      <td>3.50</td>\n",
              "      <td>0.5</td>\n",
              "      <td>5.35</td>\n",
              "      <td>0.0</td>\n",
              "      <td>1.0</td>\n",
              "      <td>32.25</td>\n",
              "      <td>2.5</td>\n",
              "      <td>0.00</td>\n",
              "      <td>14.633333</td>\n",
              "    </tr>\n",
              "    <tr>\n",
              "      <th>6</th>\n",
              "      <td>1</td>\n",
              "      <td>2023-02-01 00:12:39</td>\n",
              "      <td>2023-02-01 00:40:36</td>\n",
              "      <td>1.0</td>\n",
              "      <td>8.90</td>\n",
              "      <td>1.0</td>\n",
              "      <td>N</td>\n",
              "      <td>137</td>\n",
              "      <td>244</td>\n",
              "      <td>1</td>\n",
              "      <td>41.5</td>\n",
              "      <td>3.50</td>\n",
              "      <td>0.5</td>\n",
              "      <td>3.50</td>\n",
              "      <td>0.0</td>\n",
              "      <td>1.0</td>\n",
              "      <td>50.00</td>\n",
              "      <td>2.5</td>\n",
              "      <td>0.00</td>\n",
              "      <td>27.950000</td>\n",
              "    </tr>\n",
              "  </tbody>\n",
              "</table>\n",
              "</div>"
            ],
            "text/plain": [
              "   VendorID tpep_pickup_datetime tpep_dropoff_datetime  passenger_count  \\\n",
              "0         1  2023-02-01 00:32:53   2023-02-01 00:34:34              2.0   \n",
              "3         1  2023-02-01 00:29:33   2023-02-01 01:01:38              0.0   \n",
              "4         2  2023-02-01 00:12:28   2023-02-01 00:25:46              1.0   \n",
              "5         1  2023-02-01 00:52:40   2023-02-01 01:07:18              1.0   \n",
              "6         1  2023-02-01 00:12:39   2023-02-01 00:40:36              1.0   \n",
              "\n",
              "   trip_distance  RatecodeID store_and_fwd_flag  PULocationID  DOLocationID  \\\n",
              "0           0.30         1.0                  N           142           163   \n",
              "3          18.80         1.0                  N           132            26   \n",
              "4           3.22         1.0                  N           161           145   \n",
              "5           5.10         1.0                  N           148           236   \n",
              "6           8.90         1.0                  N           137           244   \n",
              "\n",
              "   payment_type  fare_amount  extra  mta_tax  tip_amount  tolls_amount  \\\n",
              "0             2          4.4   3.50      0.5        0.00           0.0   \n",
              "3             1         70.9   2.25      0.5        0.00           0.0   \n",
              "4             1         17.0   1.00      0.5        3.30           0.0   \n",
              "5             1         21.9   3.50      0.5        5.35           0.0   \n",
              "6             1         41.5   3.50      0.5        3.50           0.0   \n",
              "\n",
              "   improvement_surcharge  total_amount  congestion_surcharge  Airport_fee  \\\n",
              "0                    1.0          9.40                   2.5         0.00   \n",
              "3                    1.0         74.65                   0.0         1.25   \n",
              "4                    1.0         25.30                   2.5         0.00   \n",
              "5                    1.0         32.25                   2.5         0.00   \n",
              "6                    1.0         50.00                   2.5         0.00   \n",
              "\n",
              "    duration  \n",
              "0   1.683333  \n",
              "3  32.083333  \n",
              "4  13.300000  \n",
              "5  14.633333  \n",
              "6  27.950000  "
            ]
          },
          "execution_count": 19,
          "metadata": {},
          "output_type": "execute_result"
        }
      ],
      "source": [
        "# Getting the validation set which is the data set for february\n",
        "# We will use the same features as in January, but we will not use the target variable\n",
        "df_february  = pd.read_parquet('https://d37ci6vzurychx.cloudfront.net/trip-data/yellow_tripdata_2023-02.parquet', engine='pyarrow')\n",
        "df_february['duration'] = (df_february['tpep_dropoff_datetime'] - df_february['tpep_pickup_datetime']).dt.seconds / 60\n",
        "df_february = df_february.query(\" duration >=1 and duration <= 60\")\n",
        "df_february.head()"
      ]
    },
    {
      "cell_type": "code",
      "execution_count": 20,
      "id": "5aa0cf03",
      "metadata": {
        "id": "5aa0cf03"
      },
      "outputs": [],
      "source": [
        "categorical = ['PULocationID', 'DOLocationID']\n",
        "numerical = ['trip_distance']\n",
        "df_february[categorical] = df_february[categorical].astype(str)"
      ]
    },
    {
      "cell_type": "code",
      "execution_count": null,
      "id": "1074c3f9",
      "metadata": {
        "id": "1074c3f9"
      },
      "outputs": [
        {
          "ename": "",
          "evalue": "",
          "output_type": "error",
          "traceback": [
            "\u001b[1;31mThe Kernel crashed while executing code in the current cell or a previous cell. \n",
            "\u001b[1;31mPlease review the code in the cell(s) to identify a possible cause of the failure. \n",
            "\u001b[1;31mClick <a href='https://aka.ms/vscodeJupyterKernelCrash'>here</a> for more info. \n",
            "\u001b[1;31mView Jupyter <a href='command:jupyter.viewOutput'>log</a> for further details."
          ]
        }
      ],
      "source": [
        "test_dicts = df_february[categorical + numerical].to_dict(orient='records')"
      ]
    },
    {
      "cell_type": "markdown",
      "id": "RAySSUK0Z-Ly",
      "metadata": {
        "id": "RAySSUK0Z-Ly"
      },
      "source": [
        "### 6. Evaluating the model"
      ]
    },
    {
      "cell_type": "code",
      "execution_count": 22,
      "id": "c44ab7e9",
      "metadata": {
        "colab": {
          "base_uri": "https://localhost:8080/"
        },
        "id": "c44ab7e9",
        "outputId": "a758696d-59f3-4134-f309-90bd47a2fbd7"
      },
      "outputs": [
        {
          "ename": "",
          "evalue": "",
          "output_type": "error",
          "traceback": [
            "\u001b[1;31mCanceled future for execute_request message before replies were done"
          ]
        },
        {
          "ename": "",
          "evalue": "",
          "output_type": "error",
          "traceback": [
            "\u001b[1;31mCanceled future for execute_request message before replies were done. \n",
            "\u001b[1;31mView Jupyter <a href='command:jupyter.viewOutput'>log</a> for further details."
          ]
        }
      ],
      "source": [
        "# Test using the february as test set\n",
        "start = time.time()\n",
        "X_test = dv.transform(test_dicts)\n",
        "\n",
        "target = 'duration'\n",
        "y_test = df_february[target].values\n",
        "\n",
        "y_pred = lr.predict(X_test)\n",
        "rmse_test = np.sqrt(mean_squared_error(y_test, y_pred))\n",
        "end = time.time()\n",
        "print(f\"Time taken to test the model: {end - start}\")\n",
        "print(f'Validation RMSE: {rmse_test}')"
      ]
    },
    {
      "cell_type": "code",
      "execution_count": null,
      "id": "yTRKN9gDZthI",
      "metadata": {
        "id": "yTRKN9gDZthI"
      },
      "outputs": [],
      "source": [
        "# Save the trained Linear Regression model\n",
        "with open('linear_regression_model.pkl', 'wb') as f_model:\n",
        "    pickle.dump(lr, f_model)\n",
        "\n",
        "# Save the fitted DictVectorizer\n",
        "with open('dict_vectorizer.pkl', 'wb') as f_dv:\n",
        "    pickle.dump(dv, f_dv)"
      ]
    }
  ],
  "metadata": {
    "colab": {
      "provenance": [],
      "toc_visible": true
    },
    "kernelspec": {
      "display_name": "Python 3",
      "language": "python",
      "name": "python3"
    },
    "language_info": {
      "codemirror_mode": {
        "name": "ipython",
        "version": 3
      },
      "file_extension": ".py",
      "mimetype": "text/x-python",
      "name": "python",
      "nbconvert_exporter": "python",
      "pygments_lexer": "ipython3",
      "version": "3.9.12"
    }
  },
  "nbformat": 4,
  "nbformat_minor": 5
}
