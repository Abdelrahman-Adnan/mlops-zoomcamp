{
  "cells": [
    {
      "cell_type": "markdown",
      "id": "3a189818",
      "metadata": {},
      "source": [
        "# MLOps Zoomcamp 2025 - Homework 1\n",
        "\n",
        "This notebook contains the solution for the first homework assignment of the MLOps Zoomcamp course."
      ]
    },
    {
      "cell_type": "code",
      "execution_count": 1,
      "id": "8e1bca0b",
      "metadata": {
        "id": "8e1bca0b"
      },
      "outputs": [],
      "source": [
        "%config AsyncShell.timeout = 300  # Increase to 300 seconds\n",
        "import pandas as pd\n",
        "import pickle\n",
        "import numpy as np\n",
        "import seaborn as sns\n",
        "import matplotlib.pyplot as plt\n",
        "from sklearn.feature_extraction import DictVectorizer\n",
        "from sklearn.linear_model import LinearRegression\n",
        "from sklearn.linear_model import Lasso\n",
        "from sklearn.linear_model import Ridge\n",
        "from sklearn.metrics import mean_squared_error\n",
        "import pandas as pd\n",
        "import sklearn\n",
        "import pyarrow"
      ]
    },
    {
      "cell_type": "markdown",
      "id": "CwPinsnucCi9",
      "metadata": {
        "id": "CwPinsnucCi9"
      },
      "source": [
        "### 1. Downloading the data"
      ]
    },
    {
      "cell_type": "code",
      "execution_count": 2,
      "id": "253e0ebf",
      "metadata": {
        "id": "253e0ebf"
      },
      "outputs": [],
      "source": [
        "# Yellow taxi data for January 2023\n",
        "df = pd.read_parquet('https://d37ci6vzurychx.cloudfront.net/trip-data/yellow_tripdata_2023-01.parquet', engine='pyarrow')"
      ]
    },
    {
      "cell_type": "markdown",
      "id": "50c9b66a",
      "metadata": {
        "id": "50c9b66a"
      },
      "source": [
        "Get the size of the data set. How much memory it Takes?"
      ]
    },
    {
      "cell_type": "code",
      "execution_count": 3,
      "id": "04fd5c9f",
      "metadata": {
        "colab": {
          "base_uri": "https://localhost:8080/"
        },
        "id": "04fd5c9f",
        "outputId": "e797feea-5089-4c60-bae1-c770bb0675fc"
      },
      "outputs": [
        {
          "name": "stdout",
          "output_type": "stream",
          "text": [
            "<class 'pandas.core.frame.DataFrame'>\n",
            "RangeIndex: 3066766 entries, 0 to 3066765\n",
            "Data columns (total 19 columns):\n",
            " #   Column                 Dtype         \n",
            "---  ------                 -----         \n",
            " 0   VendorID               int64         \n",
            " 1   tpep_pickup_datetime   datetime64[us]\n",
            " 2   tpep_dropoff_datetime  datetime64[us]\n",
            " 3   passenger_count        float64       \n",
            " 4   trip_distance          float64       \n",
            " 5   RatecodeID             float64       \n",
            " 6   store_and_fwd_flag     object        \n",
            " 7   PULocationID           int64         \n",
            " 8   DOLocationID           int64         \n",
            " 9   payment_type           int64         \n",
            " 10  fare_amount            float64       \n",
            " 11  extra                  float64       \n",
            " 12  mta_tax                float64       \n",
            " 13  tip_amount             float64       \n",
            " 14  tolls_amount           float64       \n",
            " 15  improvement_surcharge  float64       \n",
            " 16  total_amount           float64       \n",
            " 17  congestion_surcharge   float64       \n",
            " 18  airport_fee            float64       \n",
            "dtypes: datetime64[us](2), float64(12), int64(4), object(1)\n",
            "memory usage: 588.5 MB\n"
          ]
        }
      ],
      "source": [
        "# Getting info about the dataframe and the used memory size\n",
        "df.info(memory_usage='deep')"
      ]
    },
    {
      "cell_type": "code",
      "execution_count": 4,
      "id": "8d0ffb6c",
      "metadata": {
        "colab": {
          "base_uri": "https://localhost:8080/",
          "height": 226
        },
        "id": "8d0ffb6c",
        "outputId": "b8a96323-2e8e-424b-e07c-3d40feddaafd"
      },
      "outputs": [
        {
          "data": {
            "text/html": [
              "<div>\n",
              "<style scoped>\n",
              "    .dataframe tbody tr th:only-of-type {\n",
              "        vertical-align: middle;\n",
              "    }\n",
              "\n",
              "    .dataframe tbody tr th {\n",
              "        vertical-align: top;\n",
              "    }\n",
              "\n",
              "    .dataframe thead th {\n",
              "        text-align: right;\n",
              "    }\n",
              "</style>\n",
              "<table border=\"1\" class=\"dataframe\">\n",
              "  <thead>\n",
              "    <tr style=\"text-align: right;\">\n",
              "      <th></th>\n",
              "      <th>VendorID</th>\n",
              "      <th>tpep_pickup_datetime</th>\n",
              "      <th>tpep_dropoff_datetime</th>\n",
              "      <th>passenger_count</th>\n",
              "      <th>trip_distance</th>\n",
              "      <th>RatecodeID</th>\n",
              "      <th>store_and_fwd_flag</th>\n",
              "      <th>PULocationID</th>\n",
              "      <th>DOLocationID</th>\n",
              "      <th>payment_type</th>\n",
              "      <th>fare_amount</th>\n",
              "      <th>extra</th>\n",
              "      <th>mta_tax</th>\n",
              "      <th>tip_amount</th>\n",
              "      <th>tolls_amount</th>\n",
              "      <th>improvement_surcharge</th>\n",
              "      <th>total_amount</th>\n",
              "      <th>congestion_surcharge</th>\n",
              "      <th>airport_fee</th>\n",
              "    </tr>\n",
              "  </thead>\n",
              "  <tbody>\n",
              "    <tr>\n",
              "      <th>0</th>\n",
              "      <td>2</td>\n",
              "      <td>2023-01-01 00:32:10</td>\n",
              "      <td>2023-01-01 00:40:36</td>\n",
              "      <td>1.0</td>\n",
              "      <td>0.97</td>\n",
              "      <td>1.0</td>\n",
              "      <td>N</td>\n",
              "      <td>161</td>\n",
              "      <td>141</td>\n",
              "      <td>2</td>\n",
              "      <td>9.3</td>\n",
              "      <td>1.00</td>\n",
              "      <td>0.5</td>\n",
              "      <td>0.00</td>\n",
              "      <td>0.0</td>\n",
              "      <td>1.0</td>\n",
              "      <td>14.30</td>\n",
              "      <td>2.5</td>\n",
              "      <td>0.00</td>\n",
              "    </tr>\n",
              "    <tr>\n",
              "      <th>1</th>\n",
              "      <td>2</td>\n",
              "      <td>2023-01-01 00:55:08</td>\n",
              "      <td>2023-01-01 01:01:27</td>\n",
              "      <td>1.0</td>\n",
              "      <td>1.10</td>\n",
              "      <td>1.0</td>\n",
              "      <td>N</td>\n",
              "      <td>43</td>\n",
              "      <td>237</td>\n",
              "      <td>1</td>\n",
              "      <td>7.9</td>\n",
              "      <td>1.00</td>\n",
              "      <td>0.5</td>\n",
              "      <td>4.00</td>\n",
              "      <td>0.0</td>\n",
              "      <td>1.0</td>\n",
              "      <td>16.90</td>\n",
              "      <td>2.5</td>\n",
              "      <td>0.00</td>\n",
              "    </tr>\n",
              "    <tr>\n",
              "      <th>2</th>\n",
              "      <td>2</td>\n",
              "      <td>2023-01-01 00:25:04</td>\n",
              "      <td>2023-01-01 00:37:49</td>\n",
              "      <td>1.0</td>\n",
              "      <td>2.51</td>\n",
              "      <td>1.0</td>\n",
              "      <td>N</td>\n",
              "      <td>48</td>\n",
              "      <td>238</td>\n",
              "      <td>1</td>\n",
              "      <td>14.9</td>\n",
              "      <td>1.00</td>\n",
              "      <td>0.5</td>\n",
              "      <td>15.00</td>\n",
              "      <td>0.0</td>\n",
              "      <td>1.0</td>\n",
              "      <td>34.90</td>\n",
              "      <td>2.5</td>\n",
              "      <td>0.00</td>\n",
              "    </tr>\n",
              "    <tr>\n",
              "      <th>3</th>\n",
              "      <td>1</td>\n",
              "      <td>2023-01-01 00:03:48</td>\n",
              "      <td>2023-01-01 00:13:25</td>\n",
              "      <td>0.0</td>\n",
              "      <td>1.90</td>\n",
              "      <td>1.0</td>\n",
              "      <td>N</td>\n",
              "      <td>138</td>\n",
              "      <td>7</td>\n",
              "      <td>1</td>\n",
              "      <td>12.1</td>\n",
              "      <td>7.25</td>\n",
              "      <td>0.5</td>\n",
              "      <td>0.00</td>\n",
              "      <td>0.0</td>\n",
              "      <td>1.0</td>\n",
              "      <td>20.85</td>\n",
              "      <td>0.0</td>\n",
              "      <td>1.25</td>\n",
              "    </tr>\n",
              "    <tr>\n",
              "      <th>4</th>\n",
              "      <td>2</td>\n",
              "      <td>2023-01-01 00:10:29</td>\n",
              "      <td>2023-01-01 00:21:19</td>\n",
              "      <td>1.0</td>\n",
              "      <td>1.43</td>\n",
              "      <td>1.0</td>\n",
              "      <td>N</td>\n",
              "      <td>107</td>\n",
              "      <td>79</td>\n",
              "      <td>1</td>\n",
              "      <td>11.4</td>\n",
              "      <td>1.00</td>\n",
              "      <td>0.5</td>\n",
              "      <td>3.28</td>\n",
              "      <td>0.0</td>\n",
              "      <td>1.0</td>\n",
              "      <td>19.68</td>\n",
              "      <td>2.5</td>\n",
              "      <td>0.00</td>\n",
              "    </tr>\n",
              "  </tbody>\n",
              "</table>\n",
              "</div>"
            ],
            "text/plain": [
              "   VendorID tpep_pickup_datetime tpep_dropoff_datetime  passenger_count  \\\n",
              "0         2  2023-01-01 00:32:10   2023-01-01 00:40:36              1.0   \n",
              "1         2  2023-01-01 00:55:08   2023-01-01 01:01:27              1.0   \n",
              "2         2  2023-01-01 00:25:04   2023-01-01 00:37:49              1.0   \n",
              "3         1  2023-01-01 00:03:48   2023-01-01 00:13:25              0.0   \n",
              "4         2  2023-01-01 00:10:29   2023-01-01 00:21:19              1.0   \n",
              "\n",
              "   trip_distance  RatecodeID store_and_fwd_flag  PULocationID  DOLocationID  \\\n",
              "0           0.97         1.0                  N           161           141   \n",
              "1           1.10         1.0                  N            43           237   \n",
              "2           2.51         1.0                  N            48           238   \n",
              "3           1.90         1.0                  N           138             7   \n",
              "4           1.43         1.0                  N           107            79   \n",
              "\n",
              "   payment_type  fare_amount  extra  mta_tax  tip_amount  tolls_amount  \\\n",
              "0             2          9.3   1.00      0.5        0.00           0.0   \n",
              "1             1          7.9   1.00      0.5        4.00           0.0   \n",
              "2             1         14.9   1.00      0.5       15.00           0.0   \n",
              "3             1         12.1   7.25      0.5        0.00           0.0   \n",
              "4             1         11.4   1.00      0.5        3.28           0.0   \n",
              "\n",
              "   improvement_surcharge  total_amount  congestion_surcharge  airport_fee  \n",
              "0                    1.0         14.30                   2.5         0.00  \n",
              "1                    1.0         16.90                   2.5         0.00  \n",
              "2                    1.0         34.90                   2.5         0.00  \n",
              "3                    1.0         20.85                   0.0         1.25  \n",
              "4                    1.0         19.68                   2.5         0.00  "
            ]
          },
          "execution_count": 4,
          "metadata": {},
          "output_type": "execute_result"
        }
      ],
      "source": [
        "df.head()"
      ]
    },
    {
      "cell_type": "code",
      "execution_count": 5,
      "id": "cbc1e337",
      "metadata": {
        "id": "cbc1e337"
      },
      "outputs": [],
      "source": [
        "# Adding new feature to get the trip distance\n",
        "df['duration'] = (df['tpep_dropoff_datetime'] - df['tpep_pickup_datetime']).dt.seconds / 60"
      ]
    },
    {
      "cell_type": "code",
      "execution_count": 6,
      "id": "c4e42f62",
      "metadata": {
        "colab": {
          "base_uri": "https://localhost:8080/",
          "height": 363
        },
        "id": "c4e42f62",
        "outputId": "63a0a337-1762-435e-e68c-4d7c1c79f2be"
      },
      "outputs": [
        {
          "data": {
            "text/html": [
              "<div>\n",
              "<style scoped>\n",
              "    .dataframe tbody tr th:only-of-type {\n",
              "        vertical-align: middle;\n",
              "    }\n",
              "\n",
              "    .dataframe tbody tr th {\n",
              "        vertical-align: top;\n",
              "    }\n",
              "\n",
              "    .dataframe thead th {\n",
              "        text-align: right;\n",
              "    }\n",
              "</style>\n",
              "<table border=\"1\" class=\"dataframe\">\n",
              "  <thead>\n",
              "    <tr style=\"text-align: right;\">\n",
              "      <th></th>\n",
              "      <th>trip_distance</th>\n",
              "      <th>duration</th>\n",
              "    </tr>\n",
              "  </thead>\n",
              "  <tbody>\n",
              "    <tr>\n",
              "      <th>2460754</th>\n",
              "      <td>16.83</td>\n",
              "      <td>1439.800000</td>\n",
              "    </tr>\n",
              "    <tr>\n",
              "      <th>127500</th>\n",
              "      <td>1.55</td>\n",
              "      <td>1439.650000</td>\n",
              "    </tr>\n",
              "    <tr>\n",
              "      <th>271181</th>\n",
              "      <td>24.48</td>\n",
              "      <td>1439.633333</td>\n",
              "    </tr>\n",
              "    <tr>\n",
              "      <th>1598991</th>\n",
              "      <td>8.63</td>\n",
              "      <td>1439.616667</td>\n",
              "    </tr>\n",
              "    <tr>\n",
              "      <th>2359185</th>\n",
              "      <td>2.19</td>\n",
              "      <td>1439.583333</td>\n",
              "    </tr>\n",
              "    <tr>\n",
              "      <th>2069061</th>\n",
              "      <td>12.64</td>\n",
              "      <td>1439.466667</td>\n",
              "    </tr>\n",
              "    <tr>\n",
              "      <th>1910535</th>\n",
              "      <td>3.99</td>\n",
              "      <td>1439.433333</td>\n",
              "    </tr>\n",
              "    <tr>\n",
              "      <th>927194</th>\n",
              "      <td>9.73</td>\n",
              "      <td>1439.433333</td>\n",
              "    </tr>\n",
              "    <tr>\n",
              "      <th>229908</th>\n",
              "      <td>19.54</td>\n",
              "      <td>1439.383333</td>\n",
              "    </tr>\n",
              "    <tr>\n",
              "      <th>2881681</th>\n",
              "      <td>1.52</td>\n",
              "      <td>1439.366667</td>\n",
              "    </tr>\n",
              "  </tbody>\n",
              "</table>\n",
              "</div>"
            ],
            "text/plain": [
              "         trip_distance     duration\n",
              "2460754          16.83  1439.800000\n",
              "127500            1.55  1439.650000\n",
              "271181           24.48  1439.633333\n",
              "1598991           8.63  1439.616667\n",
              "2359185           2.19  1439.583333\n",
              "2069061          12.64  1439.466667\n",
              "1910535           3.99  1439.433333\n",
              "927194            9.73  1439.433333\n",
              "229908           19.54  1439.383333\n",
              "2881681           1.52  1439.366667"
            ]
          },
          "execution_count": 6,
          "metadata": {},
          "output_type": "execute_result"
        }
      ],
      "source": [
        "(\n",
        "    df\n",
        "    [['trip_distance', 'duration']]\n",
        "    .sort_values('duration', ascending=False)\n",
        "    .head(10)\n",
        ")\n",
        "# The top 10 trips by trip_time all have extremely high values,\n",
        "# indicating likely data errors or outliers."
      ]
    },
    {
      "cell_type": "code",
      "execution_count": 7,
      "id": "602fff2e",
      "metadata": {
        "colab": {
          "base_uri": "https://localhost:8080/"
        },
        "id": "602fff2e",
        "outputId": "d4749ed0-0b7b-42e5-a494-d3d490e972e4"
      },
      "outputs": [
        {
          "data": {
            "text/plain": [
              "11"
            ]
          },
          "execution_count": 7,
          "metadata": {},
          "output_type": "execute_result"
        }
      ],
      "source": [
        "# number of passengers takes only one of 11 values, so it's better to convert it into category data type\n",
        "len(df['passenger_count'].unique())"
      ]
    },
    {
      "cell_type": "code",
      "execution_count": 8,
      "id": "aeacf26e",
      "metadata": {
        "colab": {
          "base_uri": "https://localhost:8080/",
          "height": 711
        },
        "id": "aeacf26e",
        "outputId": "35c8d8f2-a766-43b9-9de5-cc643d959594"
      },
      "outputs": [
        {
          "data": {
            "text/plain": [
              "VendorID                       2\n",
              "store_and_fwd_flag             2\n",
              "airport_fee                    3\n",
              "congestion_surcharge           3\n",
              "improvement_surcharge          5\n",
              "payment_type                   5\n",
              "RatecodeID                     7\n",
              "mta_tax                       10\n",
              "passenger_count               10\n",
              "extra                         68\n",
              "PULocationID                 257\n",
              "DOLocationID                 261\n",
              "tolls_amount                 776\n",
              "tip_amount                  4036\n",
              "trip_distance               4387\n",
              "fare_amount                 6873\n",
              "duration                    8570\n",
              "total_amount               15871\n",
              "tpep_pickup_datetime     1610975\n",
              "tpep_dropoff_datetime    1611319\n",
              "dtype: int64"
            ]
          },
          "execution_count": 8,
          "metadata": {},
          "output_type": "execute_result"
        }
      ],
      "source": [
        "# How many unique values at each feature?\n",
        "df.nunique().sort_values()"
      ]
    },
    {
      "cell_type": "code",
      "execution_count": 9,
      "id": "a9388566",
      "metadata": {
        "colab": {
          "base_uri": "https://localhost:8080/"
        },
        "id": "a9388566",
        "outputId": "22e6ac4b-f1cd-486e-ecb7-483e7c8b64cf"
      },
      "outputs": [
        {
          "name": "stdout",
          "output_type": "stream",
          "text": [
            "['VendorID', 'passenger_count', 'RatecodeID', 'store_and_fwd_flag', 'PULocationID', 'DOLocationID', 'payment_type', 'extra', 'mta_tax', 'improvement_surcharge', 'congestion_surcharge', 'airport_fee']\n"
          ]
        }
      ],
      "source": [
        "# get the names of columns with values less than 300 which will be converted into category\n",
        "categorical_columns = (df.nunique().loc[lambda _df: _df < 300] ).index.to_list()\n",
        "print(categorical_columns)\n",
        "df[categorical_columns] = df[categorical_columns].astype('category')"
      ]
    },
    {
      "cell_type": "code",
      "execution_count": 10,
      "id": "5ffab03d",
      "metadata": {
        "colab": {
          "base_uri": "https://localhost:8080/"
        },
        "id": "5ffab03d",
        "outputId": "301de9c4-b187-40ad-bb35-b8cb4d68d6ab"
      },
      "outputs": [
        {
          "name": "stdout",
          "output_type": "stream",
          "text": [
            "<class 'pandas.core.frame.DataFrame'>\n",
            "RangeIndex: 3066766 entries, 0 to 3066765\n",
            "Data columns (total 20 columns):\n",
            " #   Column                 Dtype         \n",
            "---  ------                 -----         \n",
            " 0   VendorID               category      \n",
            " 1   tpep_pickup_datetime   datetime64[us]\n",
            " 2   tpep_dropoff_datetime  datetime64[us]\n",
            " 3   passenger_count        category      \n",
            " 4   trip_distance          float64       \n",
            " 5   RatecodeID             category      \n",
            " 6   store_and_fwd_flag     category      \n",
            " 7   PULocationID           category      \n",
            " 8   DOLocationID           category      \n",
            " 9   payment_type           category      \n",
            " 10  fare_amount            float64       \n",
            " 11  extra                  category      \n",
            " 12  mta_tax                category      \n",
            " 13  tip_amount             float64       \n",
            " 14  tolls_amount           float64       \n",
            " 15  improvement_surcharge  category      \n",
            " 16  total_amount           float64       \n",
            " 17  congestion_surcharge   category      \n",
            " 18  airport_fee            category      \n",
            " 19  duration               float64       \n",
            "dtypes: category(12), datetime64[us](2), float64(6)\n",
            "memory usage: 228.2 MB\n"
          ]
        }
      ],
      "source": [
        "# How much space we saved using after converting into categorical?\n",
        "df.info(memory_usage='deep')\n",
        "# we save more than 300MB which is more than 50% of the original size of the DataFrame"
      ]
    },
    {
      "cell_type": "markdown",
      "id": "0vqbuufyb6oM",
      "metadata": {
        "id": "0vqbuufyb6oM"
      },
      "source": [
        "### 2. Computing duration"
      ]
    },
    {
      "cell_type": "code",
      "execution_count": 11,
      "id": "262dbaef",
      "metadata": {
        "colab": {
          "base_uri": "https://localhost:8080/"
        },
        "id": "262dbaef",
        "outputId": "24aef370-b06d-4303-ea35-65ae2205ddae"
      },
      "outputs": [
        {
          "name": "stdout",
          "output_type": "stream",
          "text": [
            "Standard deviation of trip durations in January: 41.62919110966266\n"
          ]
        }
      ],
      "source": [
        "std_january_duration = df['duration'].std()\n",
        "print(f\"Standard deviation of trip durations in January: {std_january_duration}\")"
      ]
    },
    {
      "cell_type": "markdown",
      "id": "sMKw7vZpa7pY",
      "metadata": {
        "id": "sMKw7vZpa7pY"
      },
      "source": [
        "### 3. Dropping outliers"
      ]
    },
    {
      "cell_type": "code",
      "execution_count": 12,
      "id": "26893733",
      "metadata": {
        "id": "26893733"
      },
      "outputs": [],
      "source": [
        "# To remove outlier we make the duration only between 1 and 60 minutes.\n",
        "df = df.query(\" duration >=1 and duration <= 60\")"
      ]
    },
    {
      "cell_type": "code",
      "execution_count": 13,
      "id": "86abeda8",
      "metadata": {
        "colab": {
          "base_uri": "https://localhost:8080/",
          "height": 370
        },
        "id": "86abeda8",
        "outputId": "735c57f8-c784-49d8-ffc4-d12f7580a13a"
      },
      "outputs": [
        {
          "data": {
            "image/png": "[encoded data removed]",
            "text/plain": [
              "<Figure size 800x400 with 1 Axes>"
            ]
          },
          "metadata": {},
          "output_type": "display_data"
        }
      ],
      "source": [
        "plt.figure(figsize=(8, 4))\n",
        "sns.histplot(df['duration'], kde=True, stat='density', color='royalblue', alpha=0.7)\n",
        "plt.xlabel('Trip Duration (minutes)')\n",
        "plt.ylabel('Density')\n",
        "plt.title('Distribution of Trip Duration')\n",
        "plt.show()"
      ]
    },
    {
      "cell_type": "code",
      "execution_count": 14,
      "id": "20641b2a",
      "metadata": {
        "colab": {
          "base_uri": "https://localhost:8080/"
        },
        "id": "20641b2a",
        "outputId": "e1ead7f7-13e4-446e-8997-1cf6185949ce"
      },
      "outputs": [
        {
          "name": "stdout",
          "output_type": "stream",
          "text": [
            "The size of the data set after dropping the outlier: 98.12 %\n"
          ]
        }
      ],
      "source": [
        "size_of_clean_df = df.shape[0]/ 3066766 * 100\n",
        "print(f\"The size of the data set after dropping the outlier: {size_of_clean_df:0.2f} %\")"
      ]
    },
    {
      "cell_type": "markdown",
      "id": "t2MoIEerasfe",
      "metadata": {
        "id": "t2MoIEerasfe"
      },
      "source": [
        "### 4. One-hot encoding"
      ]
    },
    {
      "cell_type": "code",
      "execution_count": 17,
      "id": "faeb11d2",
      "metadata": {
        "id": "faeb11d2"
      },
      "outputs": [],
      "source": [
        "categorical = ['PULocationID', 'DOLocationID']\n",
        "df[categorical] = df[categorical].astype(str)\n",
        "numerical = ['trip_distance']\n",
        "train_dicts = df[categorical + numerical].to_dict(orient='records')\n",
        "dv = DictVectorizer()\n",
        "X_train = dv.fit_transform(train_dicts)\n",
        "\n",
        "target = 'duration'\n",
        "y_train = df[target].values\n",
        "\n",
        "# We will use the DictVectorizer to convert the categorical features into a one-hot encoded format\n",
        "# and the numerical features will be used as is.\n",
        "# We will use the DictVectorizer to convert the categorical features into a one-hot encoded format"
      ]
    },
    {
      "cell_type": "code",
      "execution_count": 18,
      "id": "1cd7818b",
      "metadata": {
        "colab": {
          "base_uri": "https://localhost:8080/"
        },
        "id": "1cd7818b",
        "outputId": "fcea160e-9dd0-43f4-a270-b73bbafbc194"
      },
      "outputs": [
        {
          "name": "stdout",
          "output_type": "stream",
          "text": [
            "Feature matrix shape: (3009176, 516)\n"
          ]
        }
      ],
      "source": [
        "# Print the dimensionality (number of columns)\n",
        "print(f\"Feature matrix shape: {X_train.shape}\")"
      ]
    },
    {
      "cell_type": "markdown",
      "id": "4QcmB2XOaK84",
      "metadata": {
        "id": "4QcmB2XOaK84"
      },
      "source": [
        "### 5. Training a model"
      ]
    },
    {
      "cell_type": "code",
      "execution_count": 19,
      "id": "2086b166",
      "metadata": {
        "colab": {
          "base_uri": "https://localhost:8080/"
        },
        "id": "2086b166",
        "outputId": "afb60f4f-e1cd-47ca-8403-ea96a183e103"
      },
      "outputs": [
        {
          "name": "stdout",
          "output_type": "stream",
          "text": [
            "Time taken to train the model: 4.386111736297607\n",
            "Train RMSE: 7.658400410770745\n"
          ]
        }
      ],
      "source": [
        "import time\n",
        "start = time.time()\n",
        "\n",
        "lr = LinearRegression()\n",
        "lr.fit(X_train, y_train)\n",
        "\n",
        "y_pred = lr.predict(X_train)\n",
        "\n",
        "end = time.time()\n",
        "print(f\"Time taken to train the model: {end - start}\")\n",
        "rmse_train = np.sqrt(mean_squared_error(y_train, y_pred))\n",
        "print(f'Train RMSE: {rmse_train}')"
      ]
    },
    {
      "cell_type": "code",
      "execution_count": 20,
      "id": "e0b52034",
      "metadata": {
        "colab": {
          "base_uri": "https://localhost:8080/",
          "height": 392
        },
        "id": "e0b52034",
        "outputId": "50aafd9a-092f-49dc-bd5c-186872c79266"
      },
      "outputs": [
        {
          "data": {
            "image/png": "[encoded data removed]",
            "text/plain": [
              "<Figure size 1000x600 with 1 Axes>"
            ]
          },
          "metadata": {},
          "output_type": "display_data"
        }
      ],
      "source": [
        "# the actual vs the predicted values\n",
        "plt.figure(figsize=(10, 6))\n",
        "sns.set_style(\"whitegrid\")\n",
        "sns.histplot(y_pred, label='Prediction', color='royalblue', kde=True, stat='density', alpha=0.6)\n",
        "sns.histplot(y_train, label='Actual', color='orange', kde=True, stat='density', alpha=0.6)\n",
        "plt.xlabel('Trip Duration (minutes)')\n",
        "plt.ylabel('Density')\n",
        "plt.title('Distribution of Actual vs Predicted Trip Durations')\n",
        "plt.legend()\n",
        "plt.tight_layout()\n",
        "plt.show()"
      ]
    },
    {
      "cell_type": "code",
      "execution_count": 21,
      "id": "cf46876e",
      "metadata": {
        "colab": {
          "base_uri": "https://localhost:8080/",
          "height": 226
        },
        "id": "cf46876e",
        "outputId": "5520867f-8e28-42f9-c344-e1d27e59d349"
      },
      "outputs": [
        {
          "data": {
            "text/html": [
              "<div>\n",
              "<style scoped>\n",
              "    .dataframe tbody tr th:only-of-type {\n",
              "        vertical-align: middle;\n",
              "    }\n",
              "\n",
              "    .dataframe tbody tr th {\n",
              "        vertical-align: top;\n",
              "    }\n",
              "\n",
              "    .dataframe thead th {\n",
              "        text-align: right;\n",
              "    }\n",
              "</style>\n",
              "<table border=\"1\" class=\"dataframe\">\n",
              "  <thead>\n",
              "    <tr style=\"text-align: right;\">\n",
              "      <th></th>\n",
              "      <th>VendorID</th>\n",
              "      <th>tpep_pickup_datetime</th>\n",
              "      <th>tpep_dropoff_datetime</th>\n",
              "      <th>passenger_count</th>\n",
              "      <th>trip_distance</th>\n",
              "      <th>RatecodeID</th>\n",
              "      <th>store_and_fwd_flag</th>\n",
              "      <th>PULocationID</th>\n",
              "      <th>DOLocationID</th>\n",
              "      <th>payment_type</th>\n",
              "      <th>fare_amount</th>\n",
              "      <th>extra</th>\n",
              "      <th>mta_tax</th>\n",
              "      <th>tip_amount</th>\n",
              "      <th>tolls_amount</th>\n",
              "      <th>improvement_surcharge</th>\n",
              "      <th>total_amount</th>\n",
              "      <th>congestion_surcharge</th>\n",
              "      <th>Airport_fee</th>\n",
              "      <th>duration</th>\n",
              "    </tr>\n",
              "  </thead>\n",
              "  <tbody>\n",
              "    <tr>\n",
              "      <th>0</th>\n",
              "      <td>1</td>\n",
              "      <td>2023-02-01 00:32:53</td>\n",
              "      <td>2023-02-01 00:34:34</td>\n",
              "      <td>2.0</td>\n",
              "      <td>0.30</td>\n",
              "      <td>1.0</td>\n",
              "      <td>N</td>\n",
              "      <td>142</td>\n",
              "      <td>163</td>\n",
              "      <td>2</td>\n",
              "      <td>4.4</td>\n",
              "      <td>3.50</td>\n",
              "      <td>0.5</td>\n",
              "      <td>0.00</td>\n",
              "      <td>0.0</td>\n",
              "      <td>1.0</td>\n",
              "      <td>9.40</td>\n",
              "      <td>2.5</td>\n",
              "      <td>0.00</td>\n",
              "      <td>1.683333</td>\n",
              "    </tr>\n",
              "    <tr>\n",
              "      <th>3</th>\n",
              "      <td>1</td>\n",
              "      <td>2023-02-01 00:29:33</td>\n",
              "      <td>2023-02-01 01:01:38</td>\n",
              "      <td>0.0</td>\n",
              "      <td>18.80</td>\n",
              "      <td>1.0</td>\n",
              "      <td>N</td>\n",
              "      <td>132</td>\n",
              "      <td>26</td>\n",
              "      <td>1</td>\n",
              "      <td>70.9</td>\n",
              "      <td>2.25</td>\n",
              "      <td>0.5</td>\n",
              "      <td>0.00</td>\n",
              "      <td>0.0</td>\n",
              "      <td>1.0</td>\n",
              "      <td>74.65</td>\n",
              "      <td>0.0</td>\n",
              "      <td>1.25</td>\n",
              "      <td>32.083333</td>\n",
              "    </tr>\n",
              "    <tr>\n",
              "      <th>4</th>\n",
              "      <td>2</td>\n",
              "      <td>2023-02-01 00:12:28</td>\n",
              "      <td>2023-02-01 00:25:46</td>\n",
              "      <td>1.0</td>\n",
              "      <td>3.22</td>\n",
              "      <td>1.0</td>\n",
              "      <td>N</td>\n",
              "      <td>161</td>\n",
              "      <td>145</td>\n",
              "      <td>1</td>\n",
              "      <td>17.0</td>\n",
              "      <td>1.00</td>\n",
              "      <td>0.5</td>\n",
              "      <td>3.30</td>\n",
              "      <td>0.0</td>\n",
              "      <td>1.0</td>\n",
              "      <td>25.30</td>\n",
              "      <td>2.5</td>\n",
              "      <td>0.00</td>\n",
              "      <td>13.300000</td>\n",
              "    </tr>\n",
              "    <tr>\n",
              "      <th>5</th>\n",
              "      <td>1</td>\n",
              "      <td>2023-02-01 00:52:40</td>\n",
              "      <td>2023-02-01 01:07:18</td>\n",
              "      <td>1.0</td>\n",
              "      <td>5.10</td>\n",
              "      <td>1.0</td>\n",
              "      <td>N</td>\n",
              "      <td>148</td>\n",
              "      <td>236</td>\n",
              "      <td>1</td>\n",
              "      <td>21.9</td>\n",
              "      <td>3.50</td>\n",
              "      <td>0.5</td>\n",
              "      <td>5.35</td>\n",
              "      <td>0.0</td>\n",
              "      <td>1.0</td>\n",
              "      <td>32.25</td>\n",
              "      <td>2.5</td>\n",
              "      <td>0.00</td>\n",
              "      <td>14.633333</td>\n",
              "    </tr>\n",
              "    <tr>\n",
              "      <th>6</th>\n",
              "      <td>1</td>\n",
              "      <td>2023-02-01 00:12:39</td>\n",
              "      <td>2023-02-01 00:40:36</td>\n",
              "      <td>1.0</td>\n",
              "      <td>8.90</td>\n",
              "      <td>1.0</td>\n",
              "      <td>N</td>\n",
              "      <td>137</td>\n",
              "      <td>244</td>\n",
              "      <td>1</td>\n",
              "      <td>41.5</td>\n",
              "      <td>3.50</td>\n",
              "      <td>0.5</td>\n",
              "      <td>3.50</td>\n",
              "      <td>0.0</td>\n",
              "      <td>1.0</td>\n",
              "      <td>50.00</td>\n",
              "      <td>2.5</td>\n",
              "      <td>0.00</td>\n",
              "      <td>27.950000</td>\n",
              "    </tr>\n",
              "  </tbody>\n",
              "</table>\n",
              "</div>"
            ],
            "text/plain": [
              "   VendorID tpep_pickup_datetime tpep_dropoff_datetime  passenger_count  \\\n",
              "0         1  2023-02-01 00:32:53   2023-02-01 00:34:34              2.0   \n",
              "3         1  2023-02-01 00:29:33   2023-02-01 01:01:38              0.0   \n",
              "4         2  2023-02-01 00:12:28   2023-02-01 00:25:46              1.0   \n",
              "5         1  2023-02-01 00:52:40   2023-02-01 01:07:18              1.0   \n",
              "6         1  2023-02-01 00:12:39   2023-02-01 00:40:36              1.0   \n",
              "\n",
              "   trip_distance  RatecodeID store_and_fwd_flag  PULocationID  DOLocationID  \\\n",
              "0           0.30         1.0                  N           142           163   \n",
              "3          18.80         1.0                  N           132            26   \n",
              "4           3.22         1.0                  N           161           145   \n",
              "5           5.10         1.0                  N           148           236   \n",
              "6           8.90         1.0                  N           137           244   \n",
              "\n",
              "   payment_type  fare_amount  extra  mta_tax  tip_amount  tolls_amount  \\\n",
              "0             2          4.4   3.50      0.5        0.00           0.0   \n",
              "3             1         70.9   2.25      0.5        0.00           0.0   \n",
              "4             1         17.0   1.00      0.5        3.30           0.0   \n",
              "5             1         21.9   3.50      0.5        5.35           0.0   \n",
              "6             1         41.5   3.50      0.5        3.50           0.0   \n",
              "\n",
              "   improvement_surcharge  total_amount  congestion_surcharge  Airport_fee  \\\n",
              "0                    1.0          9.40                   2.5         0.00   \n",
              "3                    1.0         74.65                   0.0         1.25   \n",
              "4                    1.0         25.30                   2.5         0.00   \n",
              "5                    1.0         32.25                   2.5         0.00   \n",
              "6                    1.0         50.00                   2.5         0.00   \n",
              "\n",
              "    duration  \n",
              "0   1.683333  \n",
              "3  32.083333  \n",
              "4  13.300000  \n",
              "5  14.633333  \n",
              "6  27.950000  "
            ]
          },
          "execution_count": 21,
          "metadata": {},
          "output_type": "execute_result"
        }
      ],
      "source": [
        "# Getting the validation set which is the data set for february\n",
        "# We will use the same features as in January, but we will not use the target variable\n",
        "df_february  = pd.read_parquet('https://d37ci6vzurychx.cloudfront.net/trip-data/yellow_tripdata_2023-02.parquet', engine='pyarrow')\n",
        "df_february['duration'] = (df_february['tpep_dropoff_datetime'] - df_february['tpep_pickup_datetime']).dt.seconds / 60\n",
        "df_february = df_february.query(\" duration >=1 and duration <= 60\")\n",
        "df_february.head()"
      ]
    },
    {
      "cell_type": "code",
      "execution_count": 22,
      "id": "5aa0cf03",
      "metadata": {
        "id": "5aa0cf03"
      },
      "outputs": [],
      "source": [
        "categorical = ['PULocationID', 'DOLocationID']\n",
        "numerical = ['trip_distance']\n",
        "df_february[categorical] = df_february[categorical].astype(str)"
      ]
    },
    {
      "cell_type": "code",
      "execution_count": 23,
      "id": "1074c3f9",
      "metadata": {
        "id": "1074c3f9"
      },
      "outputs": [],
      "source": [
        "test_dicts = df_february[categorical + numerical].to_dict(orient='records')"
      ]
    },
    {
      "cell_type": "markdown",
      "id": "RAySSUK0Z-Ly",
      "metadata": {
        "id": "RAySSUK0Z-Ly"
      },
      "source": [
        "### 6. Evaluating the model"
      ]
    },
    {
      "cell_type": "code",
      "execution_count": 24,
      "id": "c44ab7e9",
      "metadata": {
        "colab": {
          "base_uri": "https://localhost:8080/"
        },
        "id": "c44ab7e9",
        "outputId": "a758696d-59f3-4134-f309-90bd47a2fbd7"
      },
      "outputs": [
        {
          "name": "stdout",
          "output_type": "stream",
          "text": [
            "Time taken to test the model: 5.879924774169922\n",
            "Validation RMSE: 7.819920146465773\n"
          ]
        }
      ],
      "source": [
        "# Test using the february as test set\n",
        "start = time.time()\n",
        "X_test = dv.transform(test_dicts)\n",
        "\n",
        "target = 'duration'\n",
        "y_test = df_february[target].values\n",
        "\n",
        "y_pred = lr.predict(X_test)\n",
        "rmse_test = np.sqrt(mean_squared_error(y_test, y_pred))\n",
        "end = time.time()\n",
        "print(f\"Time taken to test the model: {end - start}\")\n",
        "print(f'Validation RMSE: {rmse_test}')"
      ]
    },
    {
      "cell_type": "code",
      "execution_count": null,
      "id": "yTRKN9gDZthI",
      "metadata": {
        "id": "yTRKN9gDZthI"
      },
      "outputs": [],
      "source": [
        "# Save the trained Linear Regression model\n",
        "with open('linear_regression_model.pkl', 'wb') as f_model:\n",
        "    pickle.dump(lr, f_model)\n",
        "\n",
        "# Save the fitted DictVectorizer\n",
        "with open('dict_vectorizer.pkl', 'wb') as f_dv:\n",
        "    pickle.dump(dv, f_dv)"
      ]
    }
  ],
  "metadata": {
    "colab": {
      "provenance": [],
      "toc_visible": true
    },
    "kernelspec": {
      "display_name": "Python 3 (ipykernel)",
      "language": "python",
      "name": "python3"
    },
    "language_info": {
      "codemirror_mode": {
        "name": "ipython",
        "version": 3
      },
      "file_extension": ".py",
      "mimetype": "text/x-python",
      "name": "python",
      "nbconvert_exporter": "python",
      "pygments_lexer": "ipython3",
      "version": "3.9.12"
    }
  },
  "nbformat": 4,
  "nbformat_minor": 5
}
